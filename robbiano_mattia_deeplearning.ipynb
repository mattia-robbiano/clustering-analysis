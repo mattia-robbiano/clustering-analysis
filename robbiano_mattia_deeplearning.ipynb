{
  "cells": [
    {
      "cell_type": "markdown",
      "metadata": {
        "id": "view-in-github",
        "colab_type": "text"
      },
      "source": [
        "<a href=\"https://colab.research.google.com/github/mattia-robbiano/course_deeplearning/blob/main/robbiano_mattia_deeplearning.ipynb\" target=\"_parent\"><img src=\"https://colab.research.google.com/assets/colab-badge.svg\" alt=\"Open In Colab\"/></a>"
      ]
    },
    {
      "cell_type": "markdown",
      "metadata": {
        "id": "S0XylYD3QjJt"
      },
      "source": [
        "# Fully-connected Neural Network"
      ]
    },
    {
      "cell_type": "markdown",
      "metadata": {
        "id": "6Fo93wJVd8P3"
      },
      "source": [
        "## Imports and pre processing"
      ]
    },
    {
      "cell_type": "code",
      "execution_count": null,
      "metadata": {
        "id": "PhZrAGmyjPdw"
      },
      "outputs": [],
      "source": [
        "#standard imports\n",
        "import numpy as np\n",
        "from matplotlib import pyplot as plt\n",
        "from sklearn.model_selection import train_test_split\n",
        "\n",
        "#to compute silhouette score\n",
        "from sklearn.metrics import silhouette_samples"
      ]
    },
    {
      "cell_type": "code",
      "execution_count": null,
      "metadata": {
        "colab": {
          "base_uri": "https://localhost:8080/"
        },
        "id": "azRBv21PjVnG",
        "outputId": "a778f89f-3c48-4150-c43b-637fdc6f1465"
      },
      "outputs": [
        {
          "name": "stdout",
          "output_type": "stream",
          "text": [
            "Downloading data from https://storage.googleapis.com/tensorflow/tf-keras-datasets/mnist.npz\n",
            "11490434/11490434 [==============================] - 0s 0us/step\n"
          ]
        }
      ],
      "source": [
        "# Load the MNIST dataset\n",
        "from tensorflow.keras.datasets import mnist\n",
        "(X_train, Y_train), (X_test, Y_test) = mnist.load_data()\n",
        "\n",
        "# Split the training set into training and validation sets\n",
        "val_size = 0.1\n",
        "X_train, X_val, Y_train, Y_val = train_test_split(X_train, Y_train, test_size=val_size, stratify=Y_train)\n",
        "\n",
        "# Reshape and normalize the input data\n",
        "X_train = X_train.reshape(X_train.shape[0], -1).T / 255.0\n",
        "X_val = X_val.reshape(X_val.shape[0], -1).T / 255.0\n",
        "X_test = X_test.reshape(X_test.shape[0], -1).T / 255.0\n",
        "\n",
        "m, n = X_train.shape"
      ]
    },
    {
      "cell_type": "markdown",
      "metadata": {
        "id": "rNnB70JteDV8"
      },
      "source": [
        "## Define model and metrics\n"
      ]
    },
    {
      "cell_type": "code",
      "execution_count": null,
      "metadata": {
        "id": "lb-KKHAh3FQv"
      },
      "outputs": [],
      "source": [
        "#to get lables in one hot encoding\n",
        "def one_hot(Y):\n",
        "    one_hot_Y = np.zeros((Y.size, Y.max() + 1))\n",
        "    one_hot_Y[np.arange(Y.size), Y] = 1\n",
        "    one_hot_Y = one_hot_Y.T\n",
        "    return one_hot_Y"
      ]
    },
    {
      "cell_type": "code",
      "execution_count": null,
      "metadata": {
        "id": "WSBcUGjnP-Ya"
      },
      "outputs": [],
      "source": [
        "#initialize weights randomly\n",
        "def init():\n",
        "  W1 = np.random.rand(10,784)-0.5 #np.random.rand gives random numbers between 0 and 1\n",
        "  B1 = np.random.rand(10,1)-0.5\n",
        "  W2 = np.random.rand(10,10)-0.5\n",
        "  B2 = np.random.rand(10,1)-0.5\n",
        "  return W1, B1, W2, B2"
      ]
    },
    {
      "cell_type": "code",
      "execution_count": null,
      "metadata": {
        "id": "qiAtE-tcVPem"
      },
      "outputs": [],
      "source": [
        "def ReLU(X):\n",
        "  return np.maximum(0,X)"
      ]
    },
    {
      "cell_type": "code",
      "execution_count": null,
      "metadata": {
        "id": "4GUPd2E9V076"
      },
      "outputs": [],
      "source": [
        "def softmax(X):\n",
        "    exp_scores = np.exp(X)\n",
        "    return exp_scores / np.sum(exp_scores, axis=0)"
      ]
    },
    {
      "cell_type": "code",
      "execution_count": null,
      "metadata": {
        "id": "xcqgHtKUOfpB"
      },
      "outputs": [],
      "source": [
        "def forward_prop(X, W1, B1, W2, B2):\n",
        "    Z1 = np.dot(W1, X) + B1\n",
        "    A1 = ReLU(Z1)\n",
        "    Z2 = np.dot(W2, A1) + B2\n",
        "    A2 = softmax(Z2)\n",
        "    return Z1, A1, Z2, A2"
      ]
    },
    {
      "cell_type": "code",
      "execution_count": null,
      "metadata": {
        "id": "0U02xsN3Sigh"
      },
      "outputs": [],
      "source": [
        "def ReLU_deriv(X):\n",
        "    return X > 0"
      ]
    },
    {
      "cell_type": "code",
      "execution_count": null,
      "metadata": {
        "id": "ES0vfSQA0ZRp"
      },
      "outputs": [],
      "source": [
        "def back_prop(X, Y, A1, Z1, A2, Z2, W2):\n",
        "    Y = one_hot(Y)\n",
        "    m = X.shape[1]\n",
        "    dZ2 = A2 - Y #loss: 1/2 (A2 - Y)^2\n",
        "    dW2 = (1/m) * np.dot(dZ2, A1.T)\n",
        "    dB2 = (1/m) * np.sum(dZ2, axis=1, keepdims=True)\n",
        "    dZ1 = np.dot(W2.T, dZ2) * ReLU_deriv(Z1)\n",
        "    dW1 = (1/m) * np.dot(dZ1, X.T)\n",
        "    dB1 = (1/m) * np.sum(dZ1, axis=1, keepdims=True)\n",
        "    return dW1, dB1, dW2, dB2"
      ]
    },
    {
      "cell_type": "code",
      "execution_count": null,
      "metadata": {
        "id": "quoLpwBnU0y5"
      },
      "outputs": [],
      "source": [
        "def gradient_descent(W1, B1, W2, B2, dW1, dB1, dW2, dB2, learning_rate):\n",
        "\n",
        "    W1 -= learning_rate * dW1\n",
        "    B1 -= learning_rate * dB1\n",
        "    W2 -= learning_rate * dW2\n",
        "    B2 -= learning_rate * dB2\n",
        "    return W1, B1, W2, B2"
      ]
    },
    {
      "cell_type": "code",
      "execution_count": null,
      "metadata": {
        "id": "ktEm3HR9Or5r"
      },
      "outputs": [],
      "source": [
        "#collapse A1 in one row. The values are the number of the row in A2 in which the probability is maximum\n",
        "def get_predictions(A2):\n",
        "  return np.argmax(A2, 0)\n",
        "\n",
        "def get_accuracy(predictions, Y):\n",
        "  return np.sum(predictions == Y) / Y.size\n",
        "\n",
        "def get_loss(y_pred, y_true):\n",
        "  return np.mean(0.5*(y_pred - y_true)**2)\n",
        "\n",
        "def make_predictions(X, W1, B1, W2, B2):\n",
        "    _, _, _, A2 = forward_prop(X, W1, B1, W2, B2)\n",
        "    predictions = get_predictions(A2)\n",
        "    return predictions\n",
        "\n",
        "#function to compute silhouette score given the transformed matrix and the true lables\n",
        "def get_silhouette (X, Y):\n",
        "  sample_silhouette_values = silhouette_samples(X.T, Y)\n",
        "  means = []\n",
        "  for label in range(10):\n",
        "    means.append(sample_silhouette_values[Y == label].mean())\n",
        "  return means"
      ]
    },
    {
      "cell_type": "code",
      "execution_count": null,
      "metadata": {
        "id": "R0QqhnJA7IFB"
      },
      "outputs": [],
      "source": [
        "def get_A2(X, W1, B1, W2, B2):\n",
        "  _, _, _, A2 = forward_prop(X, W1, B1, W2, B2)\n",
        "  return A2\n"
      ]
    },
    {
      "cell_type": "markdown",
      "metadata": {
        "id": "4oFbtOlmeVk0"
      },
      "source": [
        "## Training"
      ]
    },
    {
      "cell_type": "code",
      "execution_count": null,
      "metadata": {
        "id": "Ph3WtR8hVph4"
      },
      "outputs": [],
      "source": [
        "def train(X, Y, Xval, Yval, num_epochs, initial_learning_rate):\n",
        "    W1, B1, W2, B2 = init()\n",
        "\n",
        "    global accuracy_train\n",
        "    global accuracy_val\n",
        "    global loss_train\n",
        "    global loss_val\n",
        "    global silhouette\n",
        "    accuracy_train = np.empty(int(num_epochs/10))\n",
        "    accuracy_val = np.empty(int(num_epochs/10))\n",
        "    loss_train = np.empty(int(num_epochs/10))\n",
        "    loss_val = np.empty(int(num_epochs/10))\n",
        "    silhouette = np.empty([int(num_epochs/50),10])\n",
        "\n",
        "    for epoch in range(num_epochs):\n",
        "        #dacading learning rate\n",
        "        decay_rate = 0.01\n",
        "        learning_rate = initial_learning_rate / (1 + decay_rate * epoch)\n",
        "\n",
        "        # Forward propagation\n",
        "        Z1, A1, Z2, A2 = forward_prop(X, W1, B1, W2, B2)\n",
        "\n",
        "        # Backpropagation\n",
        "        dW1, dB1, dW2, dB2 = back_prop(X, Y, A1, Z1, A2, Z2, W2)\n",
        "\n",
        "        # Update parameters\n",
        "        W1, B1, W2, B2 = gradient_descent(W1, B1, W2, B2, dW1, dB1, dW2, dB2, learning_rate)\n",
        "\n",
        "        if epoch % 10 == 0:\n",
        "            print(\"\\n Epoch: \", epoch)\n",
        "\n",
        "            #metriche per training set\n",
        "            train_predictions = get_predictions(A2)\n",
        "            acc = get_accuracy(train_predictions, Y)\n",
        "            loss = get_loss(train_predictions, Y)\n",
        "            print(\"Training loss:\", loss)\n",
        "            print(\"Training accuracy\", acc)\n",
        "            accuracy_train[int(epoch/10)] = acc\n",
        "            loss_train[int(epoch/10)] = loss\n",
        "\n",
        "\n",
        "            #metriche per validation set\n",
        "            val_predictions = make_predictions(Xval, W1, B1, W2, B2)\n",
        "            acc = get_accuracy(val_predictions, Yval)\n",
        "            loss = get_loss(val_predictions, Yval)\n",
        "            print(\"Validation loss:\", loss)\n",
        "            print(\"Validation accuracy\", acc)\n",
        "            accuracy_val[int(epoch/10)] = acc\n",
        "            loss_val[int(epoch/10)] = loss\n",
        "\n",
        "        '''if epoch % 50 == 0:\n",
        "\n",
        "          #da implementare vettore di silhouette scores per\n",
        "          silhouette_avg = get_silhouette(A2,Y)\n",
        "          silhouette[int(epoch/50), :] = silhouette_avg\n",
        "          print(\"Training silhouette score:\", silhouette_avg)'''\n",
        "\n",
        "\n",
        "\n",
        "\n",
        "\n",
        "    return W1, B1, W2, B2"
      ]
    },
    {
      "cell_type": "code",
      "execution_count": null,
      "metadata": {
        "colab": {
          "base_uri": "https://localhost:8080/",
          "height": 1000
        },
        "id": "_SoaXOBqXLac",
        "outputId": "ce10cc2c-930d-46fd-86c8-3297b249547f"
      },
      "outputs": [
        {
          "name": "stdout",
          "output_type": "stream",
          "text": [
            "\n",
            " Epoch:  0\n",
            "Training loss: 10.212296296296296\n",
            "Training accuracy 0.0765\n",
            "Validation loss: 7.45125\n",
            "Validation accuracy 0.17033333333333334\n",
            "\n",
            " Epoch:  10\n",
            "Training loss: 4.470296296296296\n",
            "Training accuracy 0.4837222222222222\n",
            "Validation loss: 4.38375\n",
            "Validation accuracy 0.5075\n",
            "\n",
            " Epoch:  20\n",
            "Training loss: 3.087759259259259\n",
            "Training accuracy 0.6445555555555555\n",
            "Validation loss: 3.05275\n",
            "Validation accuracy 0.6591666666666667\n",
            "\n",
            " Epoch:  30\n",
            "Training loss: 3.6123796296296296\n",
            "Training accuracy 0.6203888888888889\n",
            "Validation loss: 2.7754166666666666\n",
            "Validation accuracy 0.6656666666666666\n",
            "\n",
            " Epoch:  40\n",
            "Training loss: 2.586537037037037\n",
            "Training accuracy 0.7091111111111111\n",
            "Validation loss: 2.425666666666667\n",
            "Validation accuracy 0.7168333333333333\n",
            "\n",
            " Epoch:  50\n",
            "Training loss: 2.1149444444444443\n",
            "Training accuracy 0.756\n",
            "Validation loss: 2.0541666666666667\n",
            "Validation accuracy 0.7565\n",
            "\n",
            " Epoch:  60\n",
            "Training loss: 1.9007777777777777\n",
            "Training accuracy 0.7771111111111111\n",
            "Validation loss: 1.8750833333333334\n",
            "Validation accuracy 0.7771666666666667\n",
            "\n",
            " Epoch:  70\n",
            "Training loss: 1.748574074074074\n",
            "Training accuracy 0.7933333333333333\n",
            "Validation loss: 1.7359166666666668\n",
            "Validation accuracy 0.7921666666666667\n",
            "\n",
            " Epoch:  80\n",
            "Training loss: 1.632074074074074\n",
            "Training accuracy 0.8055740740740741\n",
            "Validation loss: 1.657\n",
            "Validation accuracy 0.8028333333333333\n",
            "\n",
            " Epoch:  90\n",
            "Training loss: 1.5461296296296296\n",
            "Training accuracy 0.8143703703703704\n",
            "Validation loss: 1.5966666666666667\n",
            "Validation accuracy 0.8115\n",
            "\n",
            " Epoch:  100\n",
            "Training loss: 1.4894537037037037\n",
            "Training accuracy 0.8206851851851852\n",
            "Validation loss: 1.5173333333333334\n",
            "Validation accuracy 0.8196666666666667\n",
            "\n",
            " Epoch:  110\n",
            "Training loss: 1.443111111111111\n",
            "Training accuracy 0.8256111111111111\n",
            "Validation loss: 1.4814166666666666\n",
            "Validation accuracy 0.8241666666666667\n",
            "\n",
            " Epoch:  120\n",
            "Training loss: 1.4048148148148147\n",
            "Training accuracy 0.8302777777777778\n",
            "Validation loss: 1.4398333333333333\n",
            "Validation accuracy 0.828\n",
            "\n",
            " Epoch:  130\n",
            "Training loss: 1.3699722222222221\n",
            "Training accuracy 0.8342407407407407\n",
            "Validation loss: 1.3845833333333333\n",
            "Validation accuracy 0.8321666666666667\n",
            "\n",
            " Epoch:  140\n",
            "Training loss: 1.3368703703703704\n",
            "Training accuracy 0.8378703703703704\n",
            "Validation loss: 1.3506666666666667\n",
            "Validation accuracy 0.835\n",
            "\n",
            " Epoch:  150\n",
            "Training loss: 1.3069074074074074\n",
            "Training accuracy 0.8414814814814815\n",
            "Validation loss: 1.3230833333333334\n",
            "Validation accuracy 0.838\n",
            "\n",
            " Epoch:  160\n",
            "Training loss: 1.2846481481481482\n",
            "Training accuracy 0.8444444444444444\n",
            "Validation loss: 1.29175\n",
            "Validation accuracy 0.8415\n",
            "\n",
            " Epoch:  170\n",
            "Training loss: 1.2604722222222222\n",
            "Training accuracy 0.8468333333333333\n",
            "Validation loss: 1.27625\n",
            "Validation accuracy 0.8433333333333334\n",
            "\n",
            " Epoch:  180\n",
            "Training loss: 1.240351851851852\n",
            "Training accuracy 0.8492222222222222\n",
            "Validation loss: 1.2495\n",
            "Validation accuracy 0.8463333333333334\n",
            "\n",
            " Epoch:  190\n",
            "Training loss: 1.2205833333333334\n",
            "Training accuracy 0.851462962962963\n",
            "Validation loss: 1.24325\n",
            "Validation accuracy 0.8478333333333333\n",
            "\n",
            " Epoch:  200\n",
            "Training loss: 1.2059907407407406\n",
            "Training accuracy 0.8532037037037037\n",
            "Validation loss: 1.2185\n",
            "Validation accuracy 0.8505\n",
            "\n",
            " Epoch:  210\n",
            "Training loss: 1.1961018518518518\n",
            "Training accuracy 0.8546111111111111\n",
            "Validation loss: 1.2205\n",
            "Validation accuracy 0.8513333333333334\n",
            "\n",
            " Epoch:  220\n",
            "Training loss: 1.1828425925925925\n",
            "Training accuracy 0.8563333333333333\n",
            "Validation loss: 1.2243333333333333\n",
            "Validation accuracy 0.8523333333333334\n",
            "\n",
            " Epoch:  230\n",
            "Training loss: 1.1748888888888889\n",
            "Training accuracy 0.8573333333333333\n",
            "Validation loss: 1.2035833333333332\n",
            "Validation accuracy 0.8545\n",
            "\n",
            " Epoch:  240\n",
            "Training loss: 1.1621944444444445\n",
            "Training accuracy 0.8589444444444444\n",
            "Validation loss: 1.1951666666666667\n",
            "Validation accuracy 0.8556666666666667\n",
            "\n",
            " Epoch:  250\n",
            "Training loss: 1.1487129629629629\n",
            "Training accuracy 0.8605185185185186\n",
            "Validation loss: 1.18425\n",
            "Validation accuracy 0.8568333333333333\n",
            "\n",
            " Epoch:  260\n",
            "Training loss: 1.14225\n",
            "Training accuracy 0.861574074074074\n",
            "Validation loss: 1.1868333333333334\n",
            "Validation accuracy 0.8573333333333333\n",
            "\n",
            " Epoch:  270\n",
            "Training loss: 1.1344537037037037\n",
            "Training accuracy 0.8628518518518519\n",
            "Validation loss: 1.1848333333333334\n",
            "Validation accuracy 0.8576666666666667\n",
            "\n",
            " Epoch:  280\n",
            "Training loss: 1.125324074074074\n",
            "Training accuracy 0.8638148148148148\n",
            "Validation loss: 1.1758333333333333\n",
            "Validation accuracy 0.8586666666666667\n",
            "\n",
            " Epoch:  290\n",
            "Training loss: 1.118111111111111\n",
            "Training accuracy 0.8647222222222222\n",
            "Validation loss: 1.1758333333333333\n",
            "Validation accuracy 0.8586666666666667\n",
            "\n",
            " Epoch:  300\n",
            "Training loss: 1.1115092592592593\n",
            "Training accuracy 0.865574074074074\n",
            "Validation loss: 1.18125\n",
            "Validation accuracy 0.859\n",
            "\n",
            " Epoch:  310\n",
            "Training loss: 1.102962962962963\n",
            "Training accuracy 0.8666481481481482\n",
            "Validation loss: 1.1784166666666667\n",
            "Validation accuracy 0.8595\n",
            "\n",
            " Epoch:  320\n",
            "Training loss: 1.0968981481481481\n",
            "Training accuracy 0.8673703703703703\n",
            "Validation loss: 1.1739166666666667\n",
            "Validation accuracy 0.8603333333333333\n",
            "\n",
            " Epoch:  330\n",
            "Training loss: 1.0911666666666666\n",
            "Training accuracy 0.8677962962962963\n",
            "Validation loss: 1.1731666666666667\n",
            "Validation accuracy 0.8606666666666667\n",
            "\n",
            " Epoch:  340\n",
            "Training loss: 1.087361111111111\n",
            "Training accuracy 0.8684074074074074\n",
            "Validation loss: 1.17275\n",
            "Validation accuracy 0.861\n",
            "\n",
            " Epoch:  350\n",
            "Training loss: 1.081435185185185\n",
            "Training accuracy 0.8691296296296296\n",
            "Validation loss: 1.1695\n",
            "Validation accuracy 0.8618333333333333\n",
            "\n",
            " Epoch:  360\n",
            "Training loss: 1.0745555555555555\n",
            "Training accuracy 0.8698333333333333\n",
            "Validation loss: 1.15525\n",
            "Validation accuracy 0.8623333333333333\n",
            "\n",
            " Epoch:  370\n",
            "Training loss: 1.0705185185185184\n",
            "Training accuracy 0.8704444444444445\n",
            "Validation loss: 1.1510833333333332\n",
            "Validation accuracy 0.8631666666666666\n",
            "\n",
            " Epoch:  380\n",
            "Training loss: 1.0649907407407408\n",
            "Training accuracy 0.8709814814814815\n",
            "Validation loss: 1.1461666666666666\n",
            "Validation accuracy 0.8638333333333333\n",
            "\n",
            " Epoch:  390\n",
            "Training loss: 1.0620092592592592\n",
            "Training accuracy 0.8713333333333333\n",
            "Validation loss: 1.14775\n",
            "Validation accuracy 0.864\n",
            "\n",
            " Epoch:  400\n",
            "Training loss: 1.0590648148148147\n",
            "Training accuracy 0.8716851851851852\n",
            "Validation loss: 1.14725\n",
            "Validation accuracy 0.8641666666666666\n",
            "\n",
            " Epoch:  410\n",
            "Training loss: 1.0530277777777777\n",
            "Training accuracy 0.8722222222222222\n",
            "Validation loss: 1.145\n",
            "Validation accuracy 0.8646666666666667\n",
            "\n",
            " Epoch:  420\n",
            "Training loss: 1.0482962962962963\n",
            "Training accuracy 0.8726851851851852\n",
            "Validation loss: 1.1430833333333332\n",
            "Validation accuracy 0.8653333333333333\n",
            "\n",
            " Epoch:  430\n",
            "Training loss: 1.0439351851851852\n",
            "Training accuracy 0.8731851851851852\n",
            "Validation loss: 1.1400833333333333\n",
            "Validation accuracy 0.8655\n",
            "\n",
            " Epoch:  440\n",
            "Training loss: 1.0415185185185185\n",
            "Training accuracy 0.8736296296296296\n",
            "Validation loss: 1.1400833333333333\n",
            "Validation accuracy 0.8655\n",
            "\n",
            " Epoch:  450\n",
            "Training loss: 1.0374814814814814\n",
            "Training accuracy 0.8740925925925926\n",
            "Validation loss: 1.1295833333333334\n",
            "Validation accuracy 0.8668333333333333\n",
            "\n",
            " Epoch:  460\n",
            "Training loss: 1.0339722222222223\n",
            "Training accuracy 0.8745740740740741\n",
            "Validation loss: 1.12925\n",
            "Validation accuracy 0.867\n",
            "\n",
            " Epoch:  470\n",
            "Training loss: 1.0327870370370371\n",
            "Training accuracy 0.875\n",
            "Validation loss: 1.13075\n",
            "Validation accuracy 0.8673333333333333\n",
            "\n",
            " Epoch:  480\n",
            "Training loss: 1.030851851851852\n",
            "Training accuracy 0.8751851851851852\n",
            "Validation loss: 1.13075\n",
            "Validation accuracy 0.8673333333333333\n",
            "\n",
            " Epoch:  490\n",
            "Training loss: 1.0259722222222223\n",
            "Training accuracy 0.8756851851851852\n",
            "Validation loss: 1.124\n",
            "Validation accuracy 0.868\n",
            "\n",
            " Epoch:  500\n",
            "Training loss: 1.0217129629629629\n",
            "Training accuracy 0.8761481481481481\n",
            "Validation loss: 1.1243333333333334\n",
            "Validation accuracy 0.8678333333333333\n",
            "\n",
            " Epoch:  510\n",
            "Training loss: 1.0185648148148148\n",
            "Training accuracy 0.8766481481481482\n",
            "Validation loss: 1.1220833333333333\n",
            "Validation accuracy 0.8678333333333333\n",
            "\n",
            " Epoch:  520\n",
            "Training loss: 1.0175555555555555\n",
            "Training accuracy 0.8767777777777778\n",
            "Validation loss: 1.1220833333333333\n",
            "Validation accuracy 0.8678333333333333\n",
            "\n",
            " Epoch:  530\n",
            "Training loss: 1.0152777777777777\n",
            "Training accuracy 0.8771111111111111\n",
            "Validation loss: 1.12275\n",
            "Validation accuracy 0.8675\n",
            "\n",
            " Epoch:  540\n",
            "Training loss: 1.013064814814815\n",
            "Training accuracy 0.8773888888888889\n",
            "Validation loss: 1.1173333333333333\n",
            "Validation accuracy 0.868\n",
            "\n",
            " Epoch:  550\n",
            "Training loss: 1.0100833333333334\n",
            "Training accuracy 0.8777777777777778\n",
            "Validation loss: 1.1135\n",
            "Validation accuracy 0.8681666666666666\n",
            "\n",
            " Epoch:  560\n",
            "Training loss: 1.0074166666666666\n",
            "Training accuracy 0.8780370370370371\n",
            "Validation loss: 1.1103333333333334\n",
            "Validation accuracy 0.8685\n",
            "\n",
            " Epoch:  570\n",
            "Training loss: 1.006138888888889\n",
            "Training accuracy 0.8782592592592593\n",
            "Validation loss: 1.1038333333333334\n",
            "Validation accuracy 0.869\n"
          ]
        },
        {
          "ename": "KeyboardInterrupt",
          "evalue": "ignored",
          "output_type": "error",
          "traceback": [
            "\u001b[0;31m---------------------------------------------------------------------------\u001b[0m",
            "\u001b[0;31mKeyboardInterrupt\u001b[0m                         Traceback (most recent call last)",
            "\u001b[0;32m<ipython-input-15-17af0163fb0c>\u001b[0m in \u001b[0;36m<cell line: 1>\u001b[0;34m()\u001b[0m\n\u001b[0;32m----> 1\u001b[0;31m \u001b[0mW1\u001b[0m\u001b[0;34m,\u001b[0m \u001b[0mB1\u001b[0m\u001b[0;34m,\u001b[0m \u001b[0mW2\u001b[0m\u001b[0;34m,\u001b[0m \u001b[0mB2\u001b[0m \u001b[0;34m=\u001b[0m \u001b[0mtrain\u001b[0m\u001b[0;34m(\u001b[0m\u001b[0mX_train\u001b[0m\u001b[0;34m,\u001b[0m \u001b[0mY_train\u001b[0m\u001b[0;34m,\u001b[0m \u001b[0mX_val\u001b[0m\u001b[0;34m,\u001b[0m \u001b[0mY_val\u001b[0m\u001b[0;34m,\u001b[0m \u001b[0;36m1000\u001b[0m\u001b[0;34m,\u001b[0m \u001b[0;36m0.5\u001b[0m\u001b[0;34m)\u001b[0m\u001b[0;34m\u001b[0m\u001b[0;34m\u001b[0m\u001b[0m\n\u001b[0m",
            "\u001b[0;32m<ipython-input-14-9d1954bcc96f>\u001b[0m in \u001b[0;36mtrain\u001b[0;34m(X, Y, Xval, Yval, num_epochs, initial_learning_rate)\u001b[0m\n\u001b[1;32m     19\u001b[0m \u001b[0;34m\u001b[0m\u001b[0m\n\u001b[1;32m     20\u001b[0m         \u001b[0;31m# Forward propagation\u001b[0m\u001b[0;34m\u001b[0m\u001b[0;34m\u001b[0m\u001b[0m\n\u001b[0;32m---> 21\u001b[0;31m         \u001b[0mZ1\u001b[0m\u001b[0;34m,\u001b[0m \u001b[0mA1\u001b[0m\u001b[0;34m,\u001b[0m \u001b[0mZ2\u001b[0m\u001b[0;34m,\u001b[0m \u001b[0mA2\u001b[0m \u001b[0;34m=\u001b[0m \u001b[0mforward_prop\u001b[0m\u001b[0;34m(\u001b[0m\u001b[0mX\u001b[0m\u001b[0;34m,\u001b[0m \u001b[0mW1\u001b[0m\u001b[0;34m,\u001b[0m \u001b[0mB1\u001b[0m\u001b[0;34m,\u001b[0m \u001b[0mW2\u001b[0m\u001b[0;34m,\u001b[0m \u001b[0mB2\u001b[0m\u001b[0;34m)\u001b[0m\u001b[0;34m\u001b[0m\u001b[0;34m\u001b[0m\u001b[0m\n\u001b[0m\u001b[1;32m     22\u001b[0m \u001b[0;34m\u001b[0m\u001b[0m\n\u001b[1;32m     23\u001b[0m         \u001b[0;31m# Backpropagation\u001b[0m\u001b[0;34m\u001b[0m\u001b[0;34m\u001b[0m\u001b[0m\n",
            "\u001b[0;32m<ipython-input-7-46909d19bf4b>\u001b[0m in \u001b[0;36mforward_prop\u001b[0;34m(X, W1, B1, W2, B2)\u001b[0m\n\u001b[1;32m      1\u001b[0m \u001b[0;32mdef\u001b[0m \u001b[0mforward_prop\u001b[0m\u001b[0;34m(\u001b[0m\u001b[0mX\u001b[0m\u001b[0;34m,\u001b[0m \u001b[0mW1\u001b[0m\u001b[0;34m,\u001b[0m \u001b[0mB1\u001b[0m\u001b[0;34m,\u001b[0m \u001b[0mW2\u001b[0m\u001b[0;34m,\u001b[0m \u001b[0mB2\u001b[0m\u001b[0;34m)\u001b[0m\u001b[0;34m:\u001b[0m\u001b[0;34m\u001b[0m\u001b[0;34m\u001b[0m\u001b[0m\n\u001b[0;32m----> 2\u001b[0;31m     \u001b[0mZ1\u001b[0m \u001b[0;34m=\u001b[0m \u001b[0mnp\u001b[0m\u001b[0;34m.\u001b[0m\u001b[0mdot\u001b[0m\u001b[0;34m(\u001b[0m\u001b[0mW1\u001b[0m\u001b[0;34m,\u001b[0m \u001b[0mX\u001b[0m\u001b[0;34m)\u001b[0m \u001b[0;34m+\u001b[0m \u001b[0mB1\u001b[0m\u001b[0;34m\u001b[0m\u001b[0;34m\u001b[0m\u001b[0m\n\u001b[0m\u001b[1;32m      3\u001b[0m     \u001b[0mA1\u001b[0m \u001b[0;34m=\u001b[0m \u001b[0mReLU\u001b[0m\u001b[0;34m(\u001b[0m\u001b[0mZ1\u001b[0m\u001b[0;34m)\u001b[0m\u001b[0;34m\u001b[0m\u001b[0;34m\u001b[0m\u001b[0m\n\u001b[1;32m      4\u001b[0m     \u001b[0mZ2\u001b[0m \u001b[0;34m=\u001b[0m \u001b[0mnp\u001b[0m\u001b[0;34m.\u001b[0m\u001b[0mdot\u001b[0m\u001b[0;34m(\u001b[0m\u001b[0mW2\u001b[0m\u001b[0;34m,\u001b[0m \u001b[0mA1\u001b[0m\u001b[0;34m)\u001b[0m \u001b[0;34m+\u001b[0m \u001b[0mB2\u001b[0m\u001b[0;34m\u001b[0m\u001b[0;34m\u001b[0m\u001b[0m\n\u001b[1;32m      5\u001b[0m     \u001b[0mA2\u001b[0m \u001b[0;34m=\u001b[0m \u001b[0msoftmax\u001b[0m\u001b[0;34m(\u001b[0m\u001b[0mZ2\u001b[0m\u001b[0;34m)\u001b[0m\u001b[0;34m\u001b[0m\u001b[0;34m\u001b[0m\u001b[0m\n",
            "\u001b[0;32m/usr/local/lib/python3.10/dist-packages/numpy/core/overrides.py\u001b[0m in \u001b[0;36mdot\u001b[0;34m(*args, **kwargs)\u001b[0m\n",
            "\u001b[0;31mKeyboardInterrupt\u001b[0m: "
          ]
        }
      ],
      "source": [
        "W1, B1, W2, B2 = train(X_train, Y_train, X_val, Y_val, 1000, 0.5)"
      ]
    },
    {
      "cell_type": "markdown",
      "metadata": {
        "id": "15NN9JMpemhe"
      },
      "source": [
        "## Performance"
      ]
    },
    {
      "cell_type": "code",
      "execution_count": null,
      "metadata": {
        "id": "1nSQyTZGh91K"
      },
      "outputs": [],
      "source": [
        "def normalize_vector(vector):\n",
        "    norm = np.linalg.norm(vector)\n",
        "    if norm == 0:\n",
        "        return vector\n",
        "    normalized_vector = vector\n",
        "    return normalized_vector"
      ]
    },
    {
      "cell_type": "code",
      "execution_count": null,
      "metadata": {
        "id": "ImddqejeZUtc"
      },
      "outputs": [],
      "source": [
        "#Print metrics for training set and validation set\n",
        "plt.plot(normalize_vector(accuracy_train), label = 'train accuracy')\n",
        "plt.plot(normalize_vector(accuracy_val), label = 'validation accuracy')\n",
        "plt.plot(normalize_vector(loss_train), label = 'train loss')\n",
        "plt.plot(normalize_vector(loss_val), label = 'validation loss')\n",
        "plt.xlabel('epoch/10')\n",
        "plt.legend(fontsize=15);\n",
        "plt.show()"
      ]
    },
    {
      "cell_type": "code",
      "execution_count": null,
      "metadata": {
        "colab": {
          "base_uri": "https://localhost:8080/"
        },
        "id": "as0t-pfCq-to",
        "outputId": "66d92a9e-5636-4e71-eed0-0e166938edc6"
      },
      "outputs": [
        {
          "name": "stdout",
          "output_type": "stream",
          "text": [
            "Validation loss: 0.8905\n",
            "Validation accuracy 0.8909\n"
          ]
        }
      ],
      "source": [
        "test_predictions = make_predictions(X_test, W1, B1, W2, B2)\n",
        "acc = get_accuracy(test_predictions, Y_test)\n",
        "loss = get_loss(test_predictions, Y_test)\n",
        "print(\"Validation loss:\", loss)\n",
        "print(\"Validation accuracy\", acc)"
      ]
    },
    {
      "cell_type": "markdown",
      "metadata": {
        "id": "4iK4w8hEempT"
      },
      "source": [
        "## Silhouette score"
      ]
    },
    {
      "cell_type": "code",
      "execution_count": null,
      "metadata": {
        "id": "5-PXG9VasSPc"
      },
      "outputs": [],
      "source": [
        "#Grafico il silhouette score per ogni classe\n",
        "plt.title(\"Silhouette score after second layer A2\")\n",
        "plt.xlabel('epoch/50')\n",
        "labels = [\"0\", \"1\", \"2\", \"3\", \"4\", \"5\", \"6\", \"7\", \"8\", \"9\"]\n",
        "for i in range(9):\n",
        "    plt.plot(silhouette[:,i], label=labels[i])\n",
        "plt.legend()\n",
        "plt.show()\n"
      ]
    },
    {
      "cell_type": "code",
      "execution_count": null,
      "metadata": {
        "id": "Dwlottg5qjyC"
      },
      "outputs": [],
      "source": [
        "#silhouette score for X test\n",
        "print( get_silhouette(X_test,Y_test))\n"
      ]
    },
    {
      "cell_type": "markdown",
      "metadata": {
        "id": "of7u11ssq0wg"
      },
      "source": [
        "## PCA"
      ]
    },
    {
      "cell_type": "code",
      "execution_count": null,
      "metadata": {
        "id": "rSRQIdODwamB"
      },
      "outputs": [],
      "source": [
        "import numpy as np\n",
        "import matplotlib.pyplot as plt\n",
        "from mpl_toolkits.mplot3d import Axes3D\n",
        "from sklearn.decomposition import PCA\n",
        "from matplotlib.patches import Patch\n",
        "import matplotlib.patches as mpatches\n",
        "import matplotlib.pyplot as plt\n",
        "\n",
        "\n",
        "\n",
        "# Apply PCA to reduce dimensionality to 3D\n",
        "pca = PCA(n_components=3)\n",
        "principal_components = pca.fit_transform(X_train.T, Y_train)\n"
      ]
    },
    {
      "cell_type": "code",
      "execution_count": null,
      "metadata": {
        "id": "vZXcnw9H32ZY"
      },
      "outputs": [],
      "source": [
        "# Create a list of colors for each cluster label\n",
        "colors = ['red', 'blue', 'green', 'orange', 'purple', 'yellow', 'cyan', 'magenta', 'lime', 'pink']\n",
        "labels = [\"0\", \"1\", \"2\", \"3\", \"4\", \"5\", \"6\", \"7\", \"8\", \"9\"]\n",
        "\n",
        "# Plot the transformed data in 3D with different colors for each cluster\n",
        "fig = plt.figure()\n",
        "ax = fig.add_subplot(111, projection='3d')\n",
        "\n",
        "for i in range(300):\n",
        "    ax.scatter(principal_components[i, 0], principal_components[i, 1], principal_components[i, 2], color=colors[Y_train[i]])\n",
        "r_patch = mpatches.Patch(color='red',     label='0')\n",
        "b_patch = mpatches.Patch(color='blue',    label='1')\n",
        "g_patch = mpatches.Patch(color='green',   label='2')\n",
        "o_patch = mpatches.Patch(color='orange',  label='3')\n",
        "p_patch = mpatches.Patch(color='purple',  label='4')\n",
        "y_patch = mpatches.Patch(color='yellow',  label='5')\n",
        "c_patch = mpatches.Patch(color='cyan',    label='6')\n",
        "m_patch = mpatches.Patch(color='magenta', label='7')\n",
        "l_patch = mpatches.Patch(color='lime',    label='8')\n",
        "p_patch = mpatches.Patch(color='pink',    label='9')\n",
        "\n",
        "\n",
        "ax.set_xlabel('Principal Component 1')\n",
        "ax.set_ylabel('Principal Component 2')\n",
        "ax.set_zlabel('Principal Component 3')\n",
        "ax.set_title('PCA Visualization in 3D with Clusters')\n",
        "\n",
        "plt.legend(handles=[r_patch,b_patch,g_patch,o_patch,p_patch,y_patch,c_patch,m_patch,l_patch,p_patch])\n",
        "\n",
        "plt.show()"
      ]
    },
    {
      "cell_type": "code",
      "execution_count": null,
      "metadata": {
        "id": "AApEreBw5dQ5"
      },
      "outputs": [],
      "source": [
        "#ricavo A2 da W2\n",
        "A2 = get_A2(X_train, W1, B1, W2, B2)"
      ]
    },
    {
      "cell_type": "code",
      "execution_count": null,
      "metadata": {
        "id": "6ed91vou7z0_"
      },
      "outputs": [],
      "source": [
        "# Apply PCA to reduce dimensionality to 3D\n",
        "pca = PCA(n_components=3)\n",
        "principal_components_A2 = pca.fit_transform(A2.T, Y_train)\n",
        "\n",
        "# Create a list of colors for each cluster label\n",
        "colors = ['red', 'blue', 'green', 'orange', 'purple', 'yellow', 'cyan', 'magenta', 'lime', 'pink']\n",
        "\n",
        "# Plot the transformed data in 3D with different colors for each cluster\n",
        "fig = plt.figure()\n",
        "ax = fig.add_subplot(111, projection='3d')\n",
        "\n",
        "for i in range(300):\n",
        "    ax.scatter(principal_components_A2[i, 0], principal_components_A2[i, 1], principal_components_A2[i, 2], color=colors[Y_train[i]])\n",
        "r_patch = mpatches.Patch(color='red',     label='0')\n",
        "b_patch = mpatches.Patch(color='blue',    label='1')\n",
        "g_patch = mpatches.Patch(color='green',   label='2')\n",
        "o_patch = mpatches.Patch(color='orange',  label='3')\n",
        "p_patch = mpatches.Patch(color='purple',  label='4')\n",
        "y_patch = mpatches.Patch(color='yellow',  label='5')\n",
        "c_patch = mpatches.Patch(color='cyan',    label='6')\n",
        "m_patch = mpatches.Patch(color='magenta', label='7')\n",
        "l_patch = mpatches.Patch(color='lime',    label='8')\n",
        "p_patch = mpatches.Patch(color='pink',    label='9')\n",
        "\n",
        "\n",
        "ax.set_xlabel('Principal Component 1')\n",
        "ax.set_ylabel('Principal Component 2')\n",
        "ax.set_zlabel('Principal Component 3')\n",
        "ax.set_title('PCA Visualization in 3D with Clusters')\n",
        "\n",
        "plt.legend(handles=[r_patch,b_patch,g_patch,o_patch,p_patch,y_patch,c_patch,m_patch,l_patch,p_patch])\n",
        "\n",
        "plt.show()"
      ]
    },
    {
      "cell_type": "markdown",
      "metadata": {
        "id": "G5-glOyJQWx8"
      },
      "source": [
        "# Convolutional Neural Network"
      ]
    },
    {
      "cell_type": "code",
      "execution_count": null,
      "metadata": {
        "id": "Nc047YktPdfc"
      },
      "outputs": [],
      "source": [
        "%reset -f\n"
      ]
    },
    {
      "cell_type": "markdown",
      "metadata": {
        "id": "kjGyUH1iVF_0"
      },
      "source": [
        "## Imports and pre processing"
      ]
    },
    {
      "cell_type": "code",
      "execution_count": null,
      "metadata": {
        "id": "sO8hdMZ2t_E9"
      },
      "outputs": [],
      "source": [
        "#standard imports\n",
        "import numpy as np\n",
        "import matplotlib.pyplot as plt\n",
        "from mpl_toolkits.mplot3d import Axes3D\n",
        "from matplotlib.patches import Patch\n",
        "import matplotlib.patches as mpatches\n",
        "import matplotlib.pyplot as plt\n",
        "\n",
        "#import tensorflow and keras\n",
        "import tensorflow as tf\n",
        "from tensorflow import keras\n",
        "from keras.callbacks import Callback\n",
        "\n",
        "#import PCA analysis\n",
        "from mpl_toolkits.mplot3d import Axes3D\n",
        "from sklearn.decomposition import PCA\n",
        "\n",
        "#import metrics\n",
        "from sklearn.metrics import silhouette_samples\n",
        "\n",
        "#function for fast generation of training and test set from data\n",
        "from sklearn.model_selection import train_test_split\n",
        "\n",
        "from tensorflow.keras.datasets import mnist"
      ]
    },
    {
      "cell_type": "code",
      "execution_count": null,
      "metadata": {
        "colab": {
          "base_uri": "https://localhost:8080/"
        },
        "id": "SWZ_u9imRBHr",
        "outputId": "67d77793-df86-4e5c-94b4-9508e0ccc47b"
      },
      "outputs": [
        {
          "name": "stdout",
          "output_type": "stream",
          "text": [
            "Downloading data from https://storage.googleapis.com/tensorflow/tf-keras-datasets/mnist.npz\n",
            "11490434/11490434 [==============================] - 0s 0us/step\n"
          ]
        }
      ],
      "source": [
        "# Load the MNIST dataset\n",
        "(X_train, Y_train), (X_test, Y_test) = mnist.load_data()\n",
        "\n",
        "# Split the training set into training and validation sets\n",
        "val_size = 0.1\n",
        "X_train, X_val, Y_train, Y_val = train_test_split(X_train, Y_train, test_size=val_size, stratify=Y_train)\n",
        "\n",
        "# Reshape and normalize the input data\n",
        "X_train = X_train/ 255.0\n",
        "X_val = X_val/ 255.0\n",
        "X_test = X_test/ 255.0\n",
        "\n",
        "#transform integer label into one-hot encodings\n",
        "n_classes=10\n",
        "\n",
        "y_train_cat = keras.utils.to_categorical(Y_train, n_classes)\n",
        "y_val_cat = keras.utils.to_categorical(Y_val, n_classes)\n",
        "y_test_cat = keras.utils.to_categorical(Y_test, n_classes)"
      ]
    },
    {
      "cell_type": "markdown",
      "metadata": {
        "id": "VTu3OQKMUrlX"
      },
      "source": [
        "## Model set up"
      ]
    },
    {
      "cell_type": "code",
      "execution_count": null,
      "metadata": {
        "id": "erWzO5708_Hz"
      },
      "outputs": [],
      "source": [
        "#import generic model class\n",
        "from tensorflow.keras import Model, Input\n",
        "\n",
        "#import the types of layes we need\n",
        "from tensorflow.keras.layers import Flatten, Dense, Conv2D, MaxPool2D, Reshape"
      ]
    },
    {
      "cell_type": "code",
      "execution_count": null,
      "metadata": {
        "id": "6FmaSoG2CqM5"
      },
      "outputs": [],
      "source": [
        "#cleares the backend of all the previous instances of the models\n",
        "keras.backend.clear_session()\n",
        "\n",
        "#input shape\n",
        "inputs = Input(shape=(28,28))\n",
        "x = Reshape(target_shape=(28,28,1))(inputs)\n",
        "\n",
        "#convolutional 1\n",
        "x = Conv2D(filters=6, kernel_size=(5,5), padding='same', strides=(1,1), activation='relu')(x)\n",
        "\n",
        "#Pooling (padding valid means no padding happening)\n",
        "x = MaxPool2D(pool_size=(2,2), strides=(2,2),  padding='valid')(x)\n",
        "\n",
        "#reshape input for fully connected\n",
        "x = Flatten()(x)\n",
        "\n",
        "#add a hidden dense layer\n",
        "x = Dense(15, activation='tanh')(x)\n",
        "\n",
        "#output layer with softmax for classification\n",
        "outputs = Dense(n_classes, activation='softmax')(x)\n",
        "\n",
        "model = Model(inputs=inputs, outputs=outputs, name='basic_convolution')"
      ]
    },
    {
      "cell_type": "code",
      "execution_count": null,
      "metadata": {
        "id": "TSPYk0efEFWJ"
      },
      "outputs": [],
      "source": [
        "model.compile(\n",
        "    loss=tf.keras.losses.MeanSquaredError(),\n",
        "    optimizer='sgd',\n",
        "    metrics=['accuracy']\n",
        ")"
      ]
    },
    {
      "cell_type": "code",
      "execution_count": null,
      "metadata": {
        "id": "KvigYpK3HX6P"
      },
      "outputs": [],
      "source": [
        "model.summary()"
      ]
    },
    {
      "cell_type": "markdown",
      "metadata": {
        "id": "5gOVGKAiU-2D"
      },
      "source": [
        "## Training and metrics"
      ]
    },
    {
      "cell_type": "code",
      "execution_count": null,
      "metadata": {
        "colab": {
          "background_save": true,
          "base_uri": "https://localhost:8080/"
        },
        "id": "v2NeDXmvCYAb",
        "outputId": "10ee319a-071e-4c81-aa5a-4af9e9d34bc2"
      },
      "outputs": [
        {
          "name": "stdout",
          "output_type": "stream",
          "text": [
            "Epoch 1/200\n",
            "1688/1688 [==============================] - 42s 24ms/step - loss: 0.0894 - accuracy: 0.1623 - val_loss: 0.0882 - val_accuracy: 0.2590\n",
            "Epoch 2/200\n",
            "1688/1688 [==============================] - 32s 19ms/step - loss: 0.0859 - accuracy: 0.3824 - val_loss: 0.0824 - val_accuracy: 0.4857\n",
            "Epoch 3/200\n",
            "1688/1688 [==============================] - 31s 18ms/step - loss: 0.0748 - accuracy: 0.5519 - val_loss: 0.0658 - val_accuracy: 0.5962\n",
            "Epoch 4/200\n",
            "1688/1688 [==============================] - 33s 19ms/step - loss: 0.0580 - accuracy: 0.6486 - val_loss: 0.0520 - val_accuracy: 0.6803\n",
            "Epoch 5/200\n",
            "1688/1688 [==============================] - 31s 18ms/step - loss: 0.0475 - accuracy: 0.7167 - val_loss: 0.0441 - val_accuracy: 0.7435\n",
            "Epoch 6/200\n",
            "1688/1688 [==============================] - 32s 19ms/step - loss: 0.0409 - accuracy: 0.7733 - val_loss: 0.0388 - val_accuracy: 0.7950\n",
            "Epoch 7/200\n",
            "1688/1688 [==============================] - 32s 19ms/step - loss: 0.0363 - accuracy: 0.8101 - val_loss: 0.0349 - val_accuracy: 0.8128\n",
            "Epoch 8/200\n",
            "1688/1688 [==============================] - 31s 19ms/step - loss: 0.0329 - accuracy: 0.8303 - val_loss: 0.0318 - val_accuracy: 0.8325\n",
            "Epoch 9/200\n",
            "1688/1688 [==============================] - 32s 19ms/step - loss: 0.0302 - accuracy: 0.8446 - val_loss: 0.0295 - val_accuracy: 0.8433\n",
            "Epoch 10/200\n",
            "1688/1688 [==============================] - 31s 19ms/step - loss: 0.0280 - accuracy: 0.8556 - val_loss: 0.0275 - val_accuracy: 0.8528\n",
            "Epoch 11/200\n",
            "1688/1688 [==============================] - 31s 18ms/step - loss: 0.0262 - accuracy: 0.8636 - val_loss: 0.0259 - val_accuracy: 0.8605\n",
            "Epoch 12/200\n",
            "1688/1688 [==============================] - 33s 19ms/step - loss: 0.0248 - accuracy: 0.8706 - val_loss: 0.0246 - val_accuracy: 0.8645\n",
            "Epoch 13/200\n",
            "1688/1688 [==============================] - 31s 18ms/step - loss: 0.0236 - accuracy: 0.8760 - val_loss: 0.0235 - val_accuracy: 0.8697\n",
            "Epoch 14/200\n",
            "1688/1688 [==============================] - 32s 19ms/step - loss: 0.0225 - accuracy: 0.8798 - val_loss: 0.0225 - val_accuracy: 0.8742\n",
            "Epoch 15/200\n",
            "1688/1688 [==============================] - 31s 18ms/step - loss: 0.0216 - accuracy: 0.8835 - val_loss: 0.0217 - val_accuracy: 0.8792\n",
            "Epoch 16/200\n",
            "1688/1688 [==============================] - 31s 19ms/step - loss: 0.0209 - accuracy: 0.8870 - val_loss: 0.0210 - val_accuracy: 0.8817\n",
            "Epoch 17/200\n",
            "1688/1688 [==============================] - 33s 19ms/step - loss: 0.0202 - accuracy: 0.8895 - val_loss: 0.0203 - val_accuracy: 0.8852\n",
            "Epoch 18/200\n",
            "1688/1688 [==============================] - 31s 18ms/step - loss: 0.0196 - accuracy: 0.8917 - val_loss: 0.0198 - val_accuracy: 0.8885\n",
            "Epoch 19/200\n",
            "1688/1688 [==============================] - 32s 19ms/step - loss: 0.0191 - accuracy: 0.8947 - val_loss: 0.0193 - val_accuracy: 0.8908\n",
            "Epoch 20/200\n",
            "1688/1688 [==============================] - 31s 19ms/step - loss: 0.0186 - accuracy: 0.8964 - val_loss: 0.0188 - val_accuracy: 0.8945\n",
            "Epoch 21/200\n",
            "1688/1688 [==============================] - 31s 19ms/step - loss: 0.0181 - accuracy: 0.8981 - val_loss: 0.0184 - val_accuracy: 0.8960\n",
            "Epoch 22/200\n",
            "1688/1688 [==============================] - 33s 19ms/step - loss: 0.0177 - accuracy: 0.9002 - val_loss: 0.0180 - val_accuracy: 0.8973\n",
            "Epoch 23/200\n",
            "1688/1688 [==============================] - 31s 18ms/step - loss: 0.0174 - accuracy: 0.9019 - val_loss: 0.0177 - val_accuracy: 0.8988\n",
            "Epoch 24/200\n",
            "1688/1688 [==============================] - 32s 19ms/step - loss: 0.0170 - accuracy: 0.9039 - val_loss: 0.0173 - val_accuracy: 0.9012\n",
            "Epoch 25/200\n",
            "1688/1688 [==============================] - 31s 19ms/step - loss: 0.0167 - accuracy: 0.9048 - val_loss: 0.0170 - val_accuracy: 0.9028\n",
            "Epoch 26/200\n",
            "1688/1688 [==============================] - 31s 18ms/step - loss: 0.0164 - accuracy: 0.9061 - val_loss: 0.0168 - val_accuracy: 0.9032\n",
            "Epoch 27/200\n",
            "1688/1688 [==============================] - 33s 19ms/step - loss: 0.0161 - accuracy: 0.9077 - val_loss: 0.0165 - val_accuracy: 0.9048\n",
            "Epoch 28/200\n",
            "1688/1688 [==============================] - 31s 18ms/step - loss: 0.0159 - accuracy: 0.9089 - val_loss: 0.0163 - val_accuracy: 0.9037\n",
            "Epoch 29/200\n",
            "1688/1688 [==============================] - 33s 19ms/step - loss: 0.0156 - accuracy: 0.9094 - val_loss: 0.0161 - val_accuracy: 0.9060\n",
            "Epoch 30/200\n",
            "1688/1688 [==============================] - 31s 19ms/step - loss: 0.0154 - accuracy: 0.9108 - val_loss: 0.0158 - val_accuracy: 0.9085\n",
            "Epoch 31/200\n",
            "1688/1688 [==============================] - 31s 19ms/step - loss: 0.0152 - accuracy: 0.9121 - val_loss: 0.0156 - val_accuracy: 0.9085\n",
            "Epoch 32/200\n",
            "1688/1688 [==============================] - 33s 19ms/step - loss: 0.0150 - accuracy: 0.9131 - val_loss: 0.0154 - val_accuracy: 0.9098\n",
            "Epoch 33/200\n",
            "1688/1688 [==============================] - 31s 19ms/step - loss: 0.0148 - accuracy: 0.9143 - val_loss: 0.0152 - val_accuracy: 0.9115\n",
            "Epoch 34/200\n",
            "1688/1688 [==============================] - 33s 19ms/step - loss: 0.0146 - accuracy: 0.9149 - val_loss: 0.0150 - val_accuracy: 0.9118\n",
            "Epoch 35/200\n",
            "1688/1688 [==============================] - 31s 18ms/step - loss: 0.0144 - accuracy: 0.9157 - val_loss: 0.0149 - val_accuracy: 0.9125\n",
            "Epoch 36/200\n",
            "1688/1688 [==============================] - 31s 19ms/step - loss: 0.0142 - accuracy: 0.9166 - val_loss: 0.0147 - val_accuracy: 0.9140\n",
            "Epoch 37/200\n",
            "1688/1688 [==============================] - 33s 19ms/step - loss: 0.0141 - accuracy: 0.9174 - val_loss: 0.0146 - val_accuracy: 0.9135\n",
            "Epoch 38/200\n",
            "1688/1688 [==============================] - 31s 19ms/step - loss: 0.0139 - accuracy: 0.9181 - val_loss: 0.0144 - val_accuracy: 0.9157\n",
            "Epoch 39/200\n",
            "1688/1688 [==============================] - 33s 19ms/step - loss: 0.0137 - accuracy: 0.9191 - val_loss: 0.0143 - val_accuracy: 0.9155\n",
            "Epoch 40/200\n",
            "1688/1688 [==============================] - 31s 19ms/step - loss: 0.0136 - accuracy: 0.9199 - val_loss: 0.0141 - val_accuracy: 0.9157\n",
            "Epoch 41/200\n",
            "1688/1688 [==============================] - 31s 19ms/step - loss: 0.0135 - accuracy: 0.9205 - val_loss: 0.0141 - val_accuracy: 0.9163\n",
            "Epoch 42/200\n",
            "1688/1688 [==============================] - 33s 19ms/step - loss: 0.0133 - accuracy: 0.9213 - val_loss: 0.0139 - val_accuracy: 0.9175\n",
            "Epoch 43/200\n",
            "1688/1688 [==============================] - 31s 19ms/step - loss: 0.0132 - accuracy: 0.9222 - val_loss: 0.0137 - val_accuracy: 0.9168\n",
            "Epoch 44/200\n",
            "1688/1688 [==============================] - 33s 19ms/step - loss: 0.0131 - accuracy: 0.9224 - val_loss: 0.0136 - val_accuracy: 0.9185\n",
            "Epoch 45/200\n",
            "1688/1688 [==============================] - 31s 19ms/step - loss: 0.0129 - accuracy: 0.9236 - val_loss: 0.0135 - val_accuracy: 0.9185\n",
            "Epoch 46/200\n",
            "1688/1688 [==============================] - 31s 19ms/step - loss: 0.0128 - accuracy: 0.9239 - val_loss: 0.0134 - val_accuracy: 0.9190\n",
            "Epoch 47/200\n",
            "1688/1688 [==============================] - 33s 19ms/step - loss: 0.0127 - accuracy: 0.9250 - val_loss: 0.0133 - val_accuracy: 0.9190\n",
            "Epoch 48/200\n",
            "1688/1688 [==============================] - 31s 19ms/step - loss: 0.0126 - accuracy: 0.9251 - val_loss: 0.0131 - val_accuracy: 0.9208\n",
            "Epoch 49/200\n",
            "1688/1688 [==============================] - 33s 19ms/step - loss: 0.0125 - accuracy: 0.9258 - val_loss: 0.0130 - val_accuracy: 0.9212\n",
            "Epoch 50/200\n",
            "1688/1688 [==============================] - 32s 19ms/step - loss: 0.0124 - accuracy: 0.9267 - val_loss: 0.0129 - val_accuracy: 0.9227\n",
            "Epoch 51/200\n",
            "1688/1688 [==============================] - 32s 19ms/step - loss: 0.0122 - accuracy: 0.9270 - val_loss: 0.0129 - val_accuracy: 0.9212\n",
            "Epoch 52/200\n",
            "1688/1688 [==============================] - 33s 19ms/step - loss: 0.0121 - accuracy: 0.9277 - val_loss: 0.0127 - val_accuracy: 0.9227\n",
            "Epoch 53/200\n",
            "1688/1688 [==============================] - 32s 19ms/step - loss: 0.0120 - accuracy: 0.9284 - val_loss: 0.0126 - val_accuracy: 0.9230\n",
            "Epoch 54/200\n",
            "1688/1688 [==============================] - 33s 19ms/step - loss: 0.0119 - accuracy: 0.9287 - val_loss: 0.0125 - val_accuracy: 0.9238\n",
            "Epoch 55/200\n",
            "1688/1688 [==============================] - 31s 19ms/step - loss: 0.0118 - accuracy: 0.9293 - val_loss: 0.0124 - val_accuracy: 0.9233\n",
            "Epoch 56/200\n",
            "1688/1688 [==============================] - 31s 19ms/step - loss: 0.0117 - accuracy: 0.9299 - val_loss: 0.0123 - val_accuracy: 0.9230\n",
            "Epoch 57/200\n",
            "1688/1688 [==============================] - 33s 19ms/step - loss: 0.0116 - accuracy: 0.9304 - val_loss: 0.0122 - val_accuracy: 0.9243\n",
            "Epoch 58/200\n",
            "1688/1688 [==============================] - 31s 19ms/step - loss: 0.0115 - accuracy: 0.9309 - val_loss: 0.0121 - val_accuracy: 0.9248\n",
            "Epoch 59/200\n",
            "1688/1688 [==============================] - 33s 20ms/step - loss: 0.0114 - accuracy: 0.9317 - val_loss: 0.0121 - val_accuracy: 0.9257\n",
            "Epoch 60/200\n",
            "1688/1688 [==============================] - 32s 19ms/step - loss: 0.0113 - accuracy: 0.9322 - val_loss: 0.0120 - val_accuracy: 0.9245\n",
            "Epoch 61/200\n",
            "1688/1688 [==============================] - 33s 19ms/step - loss: 0.0112 - accuracy: 0.9327 - val_loss: 0.0118 - val_accuracy: 0.9262\n",
            "Epoch 62/200\n",
            "1688/1688 [==============================] - 32s 19ms/step - loss: 0.0111 - accuracy: 0.9335 - val_loss: 0.0117 - val_accuracy: 0.9277\n",
            "Epoch 63/200\n",
            "1688/1688 [==============================] - 31s 19ms/step - loss: 0.0110 - accuracy: 0.9336 - val_loss: 0.0117 - val_accuracy: 0.9270\n",
            "Epoch 64/200\n",
            "1688/1688 [==============================] - 33s 19ms/step - loss: 0.0109 - accuracy: 0.9345 - val_loss: 0.0116 - val_accuracy: 0.9277\n",
            "Epoch 65/200\n",
            "1688/1688 [==============================] - 31s 19ms/step - loss: 0.0109 - accuracy: 0.9353 - val_loss: 0.0115 - val_accuracy: 0.9278\n",
            "Epoch 66/200\n",
            "1688/1688 [==============================] - 33s 19ms/step - loss: 0.0108 - accuracy: 0.9357 - val_loss: 0.0114 - val_accuracy: 0.9300\n",
            "Epoch 67/200\n",
            "1688/1688 [==============================] - 32s 19ms/step - loss: 0.0107 - accuracy: 0.9363 - val_loss: 0.0113 - val_accuracy: 0.9307\n",
            "Epoch 68/200\n",
            "1688/1688 [==============================] - 31s 19ms/step - loss: 0.0106 - accuracy: 0.9366 - val_loss: 0.0113 - val_accuracy: 0.9297\n",
            "Epoch 69/200\n",
            "1688/1688 [==============================] - 33s 19ms/step - loss: 0.0105 - accuracy: 0.9376 - val_loss: 0.0111 - val_accuracy: 0.9310\n",
            "Epoch 70/200\n",
            "1688/1688 [==============================] - 32s 19ms/step - loss: 0.0104 - accuracy: 0.9379 - val_loss: 0.0111 - val_accuracy: 0.9317\n",
            "Epoch 71/200\n",
            "1688/1688 [==============================] - 33s 19ms/step - loss: 0.0103 - accuracy: 0.9384 - val_loss: 0.0109 - val_accuracy: 0.9332\n",
            "Epoch 72/200\n",
            "1688/1688 [==============================] - 32s 19ms/step - loss: 0.0102 - accuracy: 0.9389 - val_loss: 0.0109 - val_accuracy: 0.9337\n",
            "Epoch 73/200\n",
            "1688/1688 [==============================] - 31s 18ms/step - loss: 0.0101 - accuracy: 0.9396 - val_loss: 0.0109 - val_accuracy: 0.9323\n",
            "Epoch 74/200\n",
            "1688/1688 [==============================] - 32s 19ms/step - loss: 0.0101 - accuracy: 0.9405 - val_loss: 0.0107 - val_accuracy: 0.9325\n",
            "Epoch 75/200\n",
            "1688/1688 [==============================] - 31s 18ms/step - loss: 0.0100 - accuracy: 0.9408 - val_loss: 0.0106 - val_accuracy: 0.9335\n",
            "Epoch 76/200\n",
            "1688/1688 [==============================] - 31s 18ms/step - loss: 0.0099 - accuracy: 0.9414 - val_loss: 0.0106 - val_accuracy: 0.9338\n",
            "Epoch 77/200\n",
            "1688/1688 [==============================] - 30s 17ms/step - loss: 0.0098 - accuracy: 0.9418 - val_loss: 0.0105 - val_accuracy: 0.9350\n",
            "Epoch 78/200\n",
            "1688/1688 [==============================] - 30s 18ms/step - loss: 0.0097 - accuracy: 0.9423 - val_loss: 0.0104 - val_accuracy: 0.9355\n",
            "Epoch 79/200\n",
            "1688/1688 [==============================] - 29s 17ms/step - loss: 0.0096 - accuracy: 0.9429 - val_loss: 0.0103 - val_accuracy: 0.9352\n",
            "Epoch 80/200\n",
            "1688/1688 [==============================] - 31s 18ms/step - loss: 0.0095 - accuracy: 0.9435 - val_loss: 0.0102 - val_accuracy: 0.9368\n",
            "Epoch 81/200\n",
            "1688/1688 [==============================] - 30s 18ms/step - loss: 0.0094 - accuracy: 0.9439 - val_loss: 0.0101 - val_accuracy: 0.9373\n",
            "Epoch 82/200\n",
            "1688/1688 [==============================] - 30s 18ms/step - loss: 0.0094 - accuracy: 0.9448 - val_loss: 0.0101 - val_accuracy: 0.9372\n",
            "Epoch 83/200\n",
            "1688/1688 [==============================] - 29s 17ms/step - loss: 0.0093 - accuracy: 0.9452 - val_loss: 0.0100 - val_accuracy: 0.9372\n",
            "Epoch 84/200\n",
            "1688/1688 [==============================] - 30s 18ms/step - loss: 0.0092 - accuracy: 0.9458 - val_loss: 0.0099 - val_accuracy: 0.9385\n",
            "Epoch 85/200\n",
            "1688/1688 [==============================] - 29s 17ms/step - loss: 0.0091 - accuracy: 0.9461 - val_loss: 0.0098 - val_accuracy: 0.9383\n",
            "Epoch 86/200\n",
            "1688/1688 [==============================] - 30s 18ms/step - loss: 0.0090 - accuracy: 0.9469 - val_loss: 0.0097 - val_accuracy: 0.9393\n",
            "Epoch 87/200\n",
            "1688/1688 [==============================] - 29s 17ms/step - loss: 0.0089 - accuracy: 0.9475 - val_loss: 0.0097 - val_accuracy: 0.9383\n",
            "Epoch 88/200\n",
            "1688/1688 [==============================] - 31s 18ms/step - loss: 0.0089 - accuracy: 0.9475 - val_loss: 0.0096 - val_accuracy: 0.9408\n",
            "Epoch 89/200\n",
            "1688/1688 [==============================] - 29s 17ms/step - loss: 0.0088 - accuracy: 0.9483 - val_loss: 0.0095 - val_accuracy: 0.9403\n",
            "Epoch 90/200\n",
            "1688/1688 [==============================] - 30s 18ms/step - loss: 0.0087 - accuracy: 0.9489 - val_loss: 0.0094 - val_accuracy: 0.9412\n",
            "Epoch 91/200\n",
            "1688/1688 [==============================] - 29s 17ms/step - loss: 0.0086 - accuracy: 0.9494 - val_loss: 0.0094 - val_accuracy: 0.9408\n",
            "Epoch 92/200\n",
            "1688/1688 [==============================] - 30s 18ms/step - loss: 0.0085 - accuracy: 0.9496 - val_loss: 0.0093 - val_accuracy: 0.9422\n",
            "Epoch 93/200\n",
            "1688/1688 [==============================] - 30s 18ms/step - loss: 0.0085 - accuracy: 0.9505 - val_loss: 0.0092 - val_accuracy: 0.9428\n",
            "Epoch 94/200\n",
            "1688/1688 [==============================] - 31s 18ms/step - loss: 0.0084 - accuracy: 0.9513 - val_loss: 0.0091 - val_accuracy: 0.9420\n",
            "Epoch 95/200\n",
            "1688/1688 [==============================] - 31s 18ms/step - loss: 0.0083 - accuracy: 0.9514 - val_loss: 0.0091 - val_accuracy: 0.9438\n",
            "Epoch 96/200\n",
            "1688/1688 [==============================] - 32s 19ms/step - loss: 0.0082 - accuracy: 0.9519 - val_loss: 0.0090 - val_accuracy: 0.9448\n",
            "Epoch 97/200\n",
            "1688/1688 [==============================] - 30s 18ms/step - loss: 0.0081 - accuracy: 0.9525 - val_loss: 0.0089 - val_accuracy: 0.9443\n",
            "Epoch 98/200\n",
            "1688/1688 [==============================] - 32s 19ms/step - loss: 0.0081 - accuracy: 0.9532 - val_loss: 0.0088 - val_accuracy: 0.9463\n",
            "Epoch 99/200\n",
            "1688/1688 [==============================] - 32s 19ms/step - loss: 0.0080 - accuracy: 0.9533 - val_loss: 0.0087 - val_accuracy: 0.9462\n",
            "Epoch 100/200\n",
            "1688/1688 [==============================] - 32s 19ms/step - loss: 0.0079 - accuracy: 0.9540 - val_loss: 0.0087 - val_accuracy: 0.9473\n",
            "Epoch 101/200\n",
            "1688/1688 [==============================] - 32s 19ms/step - loss: 0.0078 - accuracy: 0.9544 - val_loss: 0.0086 - val_accuracy: 0.9463\n",
            "Epoch 102/200\n",
            "1688/1688 [==============================] - 31s 19ms/step - loss: 0.0078 - accuracy: 0.9552 - val_loss: 0.0085 - val_accuracy: 0.9478\n",
            "Epoch 103/200\n",
            "1688/1688 [==============================] - 32s 19ms/step - loss: 0.0077 - accuracy: 0.9559 - val_loss: 0.0085 - val_accuracy: 0.9475\n",
            "Epoch 104/200\n",
            "1688/1688 [==============================] - 31s 19ms/step - loss: 0.0076 - accuracy: 0.9562 - val_loss: 0.0084 - val_accuracy: 0.9485\n",
            "Epoch 105/200\n",
            "1688/1688 [==============================] - 32s 19ms/step - loss: 0.0076 - accuracy: 0.9567 - val_loss: 0.0083 - val_accuracy: 0.9490\n",
            "Epoch 106/200\n",
            "1688/1688 [==============================] - 33s 19ms/step - loss: 0.0075 - accuracy: 0.9571 - val_loss: 0.0083 - val_accuracy: 0.9497\n",
            "Epoch 107/200\n",
            "1688/1688 [==============================] - 31s 19ms/step - loss: 0.0074 - accuracy: 0.9573 - val_loss: 0.0082 - val_accuracy: 0.9495\n",
            "Epoch 108/200\n",
            "1688/1688 [==============================] - 32s 19ms/step - loss: 0.0073 - accuracy: 0.9579 - val_loss: 0.0082 - val_accuracy: 0.9490\n",
            "Epoch 109/200\n",
            "1688/1688 [==============================] - 31s 19ms/step - loss: 0.0073 - accuracy: 0.9585 - val_loss: 0.0081 - val_accuracy: 0.9495\n",
            "Epoch 110/200\n",
            "1688/1688 [==============================] - 32s 19ms/step - loss: 0.0072 - accuracy: 0.9590 - val_loss: 0.0080 - val_accuracy: 0.9507\n",
            "Epoch 111/200\n",
            "1688/1688 [==============================] - 33s 19ms/step - loss: 0.0071 - accuracy: 0.9590 - val_loss: 0.0080 - val_accuracy: 0.9500\n",
            "Epoch 112/200\n",
            "1688/1688 [==============================] - 31s 19ms/step - loss: 0.0071 - accuracy: 0.9597 - val_loss: 0.0079 - val_accuracy: 0.9507\n",
            "Epoch 113/200\n",
            "1688/1688 [==============================] - 32s 19ms/step - loss: 0.0070 - accuracy: 0.9602 - val_loss: 0.0078 - val_accuracy: 0.9517\n",
            "Epoch 114/200\n",
            "1688/1688 [==============================] - 31s 19ms/step - loss: 0.0070 - accuracy: 0.9604 - val_loss: 0.0078 - val_accuracy: 0.9507\n",
            "Epoch 115/200\n",
            "1688/1688 [==============================] - 34s 20ms/step - loss: 0.0069 - accuracy: 0.9605 - val_loss: 0.0077 - val_accuracy: 0.9525\n",
            "Epoch 116/200\n",
            "1688/1688 [==============================] - 32s 19ms/step - loss: 0.0068 - accuracy: 0.9608 - val_loss: 0.0077 - val_accuracy: 0.9522\n",
            "Epoch 117/200\n",
            "1688/1688 [==============================] - 31s 19ms/step - loss: 0.0068 - accuracy: 0.9612 - val_loss: 0.0076 - val_accuracy: 0.9538\n",
            "Epoch 118/200\n",
            "1688/1688 [==============================] - 32s 19ms/step - loss: 0.0067 - accuracy: 0.9619 - val_loss: 0.0075 - val_accuracy: 0.9532\n",
            "Epoch 119/200\n",
            "1688/1688 [==============================] - 33s 19ms/step - loss: 0.0067 - accuracy: 0.9621 - val_loss: 0.0075 - val_accuracy: 0.9533\n",
            "Epoch 120/200\n",
            "1688/1688 [==============================] - 31s 19ms/step - loss: 0.0066 - accuracy: 0.9626 - val_loss: 0.0074 - val_accuracy: 0.9543\n",
            "Epoch 121/200\n",
            "1688/1688 [==============================] - 32s 19ms/step - loss: 0.0065 - accuracy: 0.9629 - val_loss: 0.0075 - val_accuracy: 0.9537\n",
            "Epoch 122/200\n",
            "1688/1688 [==============================] - 32s 19ms/step - loss: 0.0065 - accuracy: 0.9633 - val_loss: 0.0074 - val_accuracy: 0.9552\n",
            "Epoch 123/200\n",
            "1688/1688 [==============================] - 32s 19ms/step - loss: 0.0064 - accuracy: 0.9637 - val_loss: 0.0073 - val_accuracy: 0.9557\n",
            "Epoch 124/200\n",
            "1688/1688 [==============================] - 32s 19ms/step - loss: 0.0064 - accuracy: 0.9638 - val_loss: 0.0072 - val_accuracy: 0.9558\n",
            "Epoch 125/200\n",
            "1688/1688 [==============================] - 32s 19ms/step - loss: 0.0063 - accuracy: 0.9643 - val_loss: 0.0072 - val_accuracy: 0.9558\n",
            "Epoch 126/200\n",
            "1688/1688 [==============================] - 33s 19ms/step - loss: 0.0063 - accuracy: 0.9643 - val_loss: 0.0071 - val_accuracy: 0.9572\n",
            "Epoch 127/200\n",
            "1688/1688 [==============================] - 33s 20ms/step - loss: 0.0062 - accuracy: 0.9646 - val_loss: 0.0071 - val_accuracy: 0.9575\n",
            "Epoch 128/200\n",
            "1688/1688 [==============================] - 32s 19ms/step - loss: 0.0062 - accuracy: 0.9651 - val_loss: 0.0070 - val_accuracy: 0.9567\n",
            "Epoch 129/200\n",
            "1688/1688 [==============================] - 33s 19ms/step - loss: 0.0061 - accuracy: 0.9656 - val_loss: 0.0070 - val_accuracy: 0.9575\n",
            "Epoch 130/200\n",
            "1688/1688 [==============================] - 32s 19ms/step - loss: 0.0061 - accuracy: 0.9654 - val_loss: 0.0069 - val_accuracy: 0.9560\n",
            "Epoch 131/200\n",
            "1688/1688 [==============================] - 33s 19ms/step - loss: 0.0060 - accuracy: 0.9660 - val_loss: 0.0069 - val_accuracy: 0.9582\n",
            "Epoch 132/200\n",
            "1688/1688 [==============================] - 33s 19ms/step - loss: 0.0060 - accuracy: 0.9666 - val_loss: 0.0069 - val_accuracy: 0.9580\n",
            "Epoch 133/200\n",
            "1688/1688 [==============================] - 32s 19ms/step - loss: 0.0059 - accuracy: 0.9666 - val_loss: 0.0068 - val_accuracy: 0.9582\n",
            "Epoch 134/200\n",
            "1688/1688 [==============================] - 32s 19ms/step - loss: 0.0059 - accuracy: 0.9668 - val_loss: 0.0067 - val_accuracy: 0.9588\n",
            "Epoch 135/200\n",
            "1688/1688 [==============================] - 32s 19ms/step - loss: 0.0058 - accuracy: 0.9669 - val_loss: 0.0067 - val_accuracy: 0.9595\n",
            "Epoch 136/200\n",
            "1688/1688 [==============================] - 32s 19ms/step - loss: 0.0058 - accuracy: 0.9670 - val_loss: 0.0066 - val_accuracy: 0.9588\n",
            "Epoch 137/200\n",
            "1688/1688 [==============================] - 33s 19ms/step - loss: 0.0057 - accuracy: 0.9680 - val_loss: 0.0066 - val_accuracy: 0.9600\n",
            "Epoch 138/200\n",
            "1688/1688 [==============================] - 32s 19ms/step - loss: 0.0057 - accuracy: 0.9677 - val_loss: 0.0066 - val_accuracy: 0.9592\n",
            "Epoch 139/200\n",
            "1688/1688 [==============================] - 32s 19ms/step - loss: 0.0057 - accuracy: 0.9682 - val_loss: 0.0065 - val_accuracy: 0.9592\n",
            "Epoch 140/200\n",
            "1688/1688 [==============================] - 33s 20ms/step - loss: 0.0056 - accuracy: 0.9685 - val_loss: 0.0065 - val_accuracy: 0.9593\n",
            "Epoch 141/200\n",
            "1688/1688 [==============================] - 32s 19ms/step - loss: 0.0056 - accuracy: 0.9685 - val_loss: 0.0065 - val_accuracy: 0.9605\n",
            "Epoch 142/200\n",
            "1688/1688 [==============================] - 33s 19ms/step - loss: 0.0055 - accuracy: 0.9688 - val_loss: 0.0064 - val_accuracy: 0.9610\n",
            "Epoch 143/200\n",
            "1688/1688 [==============================] - 32s 19ms/step - loss: 0.0055 - accuracy: 0.9694 - val_loss: 0.0064 - val_accuracy: 0.9617\n",
            "Epoch 144/200\n",
            "1688/1688 [==============================] - 32s 19ms/step - loss: 0.0055 - accuracy: 0.9693 - val_loss: 0.0063 - val_accuracy: 0.9617\n",
            "Epoch 145/200\n",
            "1688/1688 [==============================] - 32s 19ms/step - loss: 0.0054 - accuracy: 0.9698 - val_loss: 0.0063 - val_accuracy: 0.9615\n",
            "Epoch 146/200\n",
            "1688/1688 [==============================] - 32s 19ms/step - loss: 0.0054 - accuracy: 0.9700 - val_loss: 0.0063 - val_accuracy: 0.9610\n",
            "Epoch 147/200\n",
            "1688/1688 [==============================] - 32s 19ms/step - loss: 0.0054 - accuracy: 0.9699 - val_loss: 0.0063 - val_accuracy: 0.9628\n",
            "Epoch 148/200\n",
            "1688/1688 [==============================] - 32s 19ms/step - loss: 0.0053 - accuracy: 0.9703 - val_loss: 0.0062 - val_accuracy: 0.9613\n",
            "Epoch 149/200\n",
            "1688/1688 [==============================] - 32s 19ms/step - loss: 0.0053 - accuracy: 0.9704 - val_loss: 0.0062 - val_accuracy: 0.9630\n",
            "Epoch 150/200\n",
            "1688/1688 [==============================] - 33s 19ms/step - loss: 0.0052 - accuracy: 0.9709 - val_loss: 0.0062 - val_accuracy: 0.9630\n",
            "Epoch 151/200\n",
            "1688/1688 [==============================] - 33s 19ms/step - loss: 0.0052 - accuracy: 0.9709 - val_loss: 0.0061 - val_accuracy: 0.9640\n",
            "Epoch 152/200\n",
            "1688/1688 [==============================] - 32s 19ms/step - loss: 0.0052 - accuracy: 0.9710 - val_loss: 0.0061 - val_accuracy: 0.9630\n",
            "Epoch 153/200\n",
            "1688/1688 [==============================] - 33s 19ms/step - loss: 0.0051 - accuracy: 0.9712 - val_loss: 0.0061 - val_accuracy: 0.9632\n",
            "Epoch 154/200\n",
            "1688/1688 [==============================] - 31s 18ms/step - loss: 0.0051 - accuracy: 0.9717 - val_loss: 0.0061 - val_accuracy: 0.9632\n",
            "Epoch 155/200\n",
            "1688/1688 [==============================] - 32s 19ms/step - loss: 0.0051 - accuracy: 0.9715 - val_loss: 0.0060 - val_accuracy: 0.9637\n",
            "Epoch 156/200\n",
            "1688/1688 [==============================] - 31s 19ms/step - loss: 0.0050 - accuracy: 0.9718 - val_loss: 0.0060 - val_accuracy: 0.9642\n",
            "Epoch 157/200\n",
            "1688/1688 [==============================] - 30s 18ms/step - loss: 0.0050 - accuracy: 0.9719 - val_loss: 0.0059 - val_accuracy: 0.9643\n",
            "Epoch 158/200\n",
            "1688/1688 [==============================] - 31s 18ms/step - loss: 0.0050 - accuracy: 0.9722 - val_loss: 0.0059 - val_accuracy: 0.9643\n",
            "Epoch 159/200\n",
            "1688/1688 [==============================] - 30s 18ms/step - loss: 0.0049 - accuracy: 0.9725 - val_loss: 0.0059 - val_accuracy: 0.9655\n",
            "Epoch 160/200\n",
            "1688/1688 [==============================] - 31s 18ms/step - loss: 0.0049 - accuracy: 0.9725 - val_loss: 0.0059 - val_accuracy: 0.9650\n",
            "Epoch 161/200\n",
            "1688/1688 [==============================] - 30s 18ms/step - loss: 0.0049 - accuracy: 0.9729 - val_loss: 0.0059 - val_accuracy: 0.9653\n",
            "Epoch 162/200\n",
            "1688/1688 [==============================] - 31s 18ms/step - loss: 0.0049 - accuracy: 0.9729 - val_loss: 0.0058 - val_accuracy: 0.9655\n",
            "Epoch 163/200\n",
            "1688/1688 [==============================] - 30s 18ms/step - loss: 0.0048 - accuracy: 0.9734 - val_loss: 0.0057 - val_accuracy: 0.9653\n",
            "Epoch 164/200\n",
            "1688/1688 [==============================] - 31s 18ms/step - loss: 0.0048 - accuracy: 0.9733 - val_loss: 0.0057 - val_accuracy: 0.9660\n",
            "Epoch 165/200\n",
            "1688/1688 [==============================] - 30s 18ms/step - loss: 0.0048 - accuracy: 0.9736 - val_loss: 0.0057 - val_accuracy: 0.9660\n",
            "Epoch 166/200\n",
            "1688/1688 [==============================] - 31s 18ms/step - loss: 0.0047 - accuracy: 0.9739 - val_loss: 0.0057 - val_accuracy: 0.9658\n",
            "Epoch 167/200\n",
            "1688/1688 [==============================] - 30s 18ms/step - loss: 0.0047 - accuracy: 0.9739 - val_loss: 0.0056 - val_accuracy: 0.9658\n",
            "Epoch 168/200\n",
            "1688/1688 [==============================] - 31s 18ms/step - loss: 0.0047 - accuracy: 0.9741 - val_loss: 0.0056 - val_accuracy: 0.9660\n",
            "Epoch 169/200\n",
            "1688/1688 [==============================] - 30s 18ms/step - loss: 0.0047 - accuracy: 0.9743 - val_loss: 0.0056 - val_accuracy: 0.9660\n",
            "Epoch 170/200\n",
            "1688/1688 [==============================] - 31s 18ms/step - loss: 0.0046 - accuracy: 0.9745 - val_loss: 0.0056 - val_accuracy: 0.9668\n",
            "Epoch 171/200\n",
            "1688/1688 [==============================] - 30s 18ms/step - loss: 0.0046 - accuracy: 0.9745 - val_loss: 0.0055 - val_accuracy: 0.9670\n",
            "Epoch 172/200\n",
            "1688/1688 [==============================] - 31s 18ms/step - loss: 0.0046 - accuracy: 0.9747 - val_loss: 0.0055 - val_accuracy: 0.9663\n",
            "Epoch 173/200\n",
            "1688/1688 [==============================] - 30s 18ms/step - loss: 0.0046 - accuracy: 0.9748 - val_loss: 0.0055 - val_accuracy: 0.9667\n",
            "Epoch 174/200\n",
            "1688/1688 [==============================] - 31s 18ms/step - loss: 0.0045 - accuracy: 0.9747 - val_loss: 0.0055 - val_accuracy: 0.9670\n",
            "Epoch 175/200\n",
            "1688/1688 [==============================] - 30s 18ms/step - loss: 0.0045 - accuracy: 0.9749 - val_loss: 0.0055 - val_accuracy: 0.9668\n",
            "Epoch 176/200\n",
            "1688/1688 [==============================] - 31s 18ms/step - loss: 0.0045 - accuracy: 0.9753 - val_loss: 0.0055 - val_accuracy: 0.9672\n",
            "Epoch 177/200\n",
            "1688/1688 [==============================] - 31s 19ms/step - loss: 0.0045 - accuracy: 0.9755 - val_loss: 0.0054 - val_accuracy: 0.9677\n",
            "Epoch 178/200\n",
            "1688/1688 [==============================] - 30s 18ms/step - loss: 0.0044 - accuracy: 0.9754 - val_loss: 0.0054 - val_accuracy: 0.9675\n",
            "Epoch 179/200\n",
            "1688/1688 [==============================] - 31s 18ms/step - loss: 0.0044 - accuracy: 0.9757 - val_loss: 0.0054 - val_accuracy: 0.9680\n",
            "Epoch 180/200\n",
            "1688/1688 [==============================] - 30s 18ms/step - loss: 0.0044 - accuracy: 0.9756 - val_loss: 0.0054 - val_accuracy: 0.9667\n",
            "Epoch 181/200\n",
            "1688/1688 [==============================] - 32s 19ms/step - loss: 0.0044 - accuracy: 0.9758 - val_loss: 0.0054 - val_accuracy: 0.9668\n",
            "Epoch 182/200\n",
            "1688/1688 [==============================] - 30s 18ms/step - loss: 0.0043 - accuracy: 0.9760 - val_loss: 0.0053 - val_accuracy: 0.9680\n",
            "Epoch 183/200\n",
            "1688/1688 [==============================] - 31s 18ms/step - loss: 0.0043 - accuracy: 0.9762 - val_loss: 0.0053 - val_accuracy: 0.9672\n",
            "Epoch 184/200\n",
            "1688/1688 [==============================] - 30s 18ms/step - loss: 0.0043 - accuracy: 0.9762 - val_loss: 0.0053 - val_accuracy: 0.9683\n",
            "Epoch 185/200\n",
            "1688/1688 [==============================] - 31s 18ms/step - loss: 0.0043 - accuracy: 0.9763 - val_loss: 0.0053 - val_accuracy: 0.9678\n",
            "Epoch 186/200\n",
            "1688/1688 [==============================] - 30s 18ms/step - loss: 0.0043 - accuracy: 0.9765 - val_loss: 0.0052 - val_accuracy: 0.9685\n",
            "Epoch 187/200\n",
            "1688/1688 [==============================] - 31s 18ms/step - loss: 0.0042 - accuracy: 0.9764 - val_loss: 0.0052 - val_accuracy: 0.9685\n",
            "Epoch 188/200\n",
            "1688/1688 [==============================] - 30s 18ms/step - loss: 0.0042 - accuracy: 0.9769 - val_loss: 0.0052 - val_accuracy: 0.9680\n",
            "Epoch 189/200\n",
            "1688/1688 [==============================] - 31s 18ms/step - loss: 0.0042 - accuracy: 0.9767 - val_loss: 0.0052 - val_accuracy: 0.9687\n",
            "Epoch 190/200\n",
            "1688/1688 [==============================] - 30s 18ms/step - loss: 0.0042 - accuracy: 0.9769 - val_loss: 0.0052 - val_accuracy: 0.9685\n",
            "Epoch 191/200\n",
            "1688/1688 [==============================] - 31s 18ms/step - loss: 0.0042 - accuracy: 0.9769 - val_loss: 0.0051 - val_accuracy: 0.9688\n",
            "Epoch 192/200\n",
            "1688/1688 [==============================] - 30s 18ms/step - loss: 0.0041 - accuracy: 0.9773 - val_loss: 0.0051 - val_accuracy: 0.9690\n",
            "Epoch 193/200\n",
            "1688/1688 [==============================] - 31s 18ms/step - loss: 0.0041 - accuracy: 0.9772 - val_loss: 0.0051 - val_accuracy: 0.9687\n",
            "Epoch 194/200\n",
            "1688/1688 [==============================] - 30s 18ms/step - loss: 0.0041 - accuracy: 0.9774 - val_loss: 0.0051 - val_accuracy: 0.9693\n",
            "Epoch 195/200\n",
            "1688/1688 [==============================] - 31s 18ms/step - loss: 0.0041 - accuracy: 0.9775 - val_loss: 0.0051 - val_accuracy: 0.9700\n",
            "Epoch 196/200\n",
            "1688/1688 [==============================] - 30s 18ms/step - loss: 0.0041 - accuracy: 0.9774 - val_loss: 0.0051 - val_accuracy: 0.9687\n",
            "Epoch 197/200\n",
            "1688/1688 [==============================] - 31s 18ms/step - loss: 0.0040 - accuracy: 0.9774 - val_loss: 0.0051 - val_accuracy: 0.9685\n",
            "Epoch 198/200\n",
            "1688/1688 [==============================] - 30s 18ms/step - loss: 0.0040 - accuracy: 0.9780 - val_loss: 0.0051 - val_accuracy: 0.9680\n",
            "Epoch 199/200\n",
            "1688/1688 [==============================] - 31s 18ms/step - loss: 0.0040 - accuracy: 0.9781 - val_loss: 0.0050 - val_accuracy: 0.9702\n",
            "Epoch 200/200\n",
            "1688/1688 [==============================] - 30s 18ms/step - loss: 0.0040 - accuracy: 0.9780 - val_loss: 0.0050 - val_accuracy: 0.9690\n"
          ]
        }
      ],
      "source": [
        "class GetWeightsCallback(Callback):\n",
        "  def __init__(self, file_path):\n",
        "    self.file_path = file_path\n",
        "    self.counter = 0\n",
        "\n",
        "  def on_epoch_begin(self, epoch, logs=None):\n",
        "    self.counter += 1\n",
        "    file_path_iter = self.file_path + str(self.counter)\n",
        "    if self.counter % 2 == 0:\n",
        "      weights = self.model.get_weights()\n",
        "      self.model.save_weights(file_path_iter, overwrite=True)\n",
        "\n",
        "file_path = \"/content/dati/pesi\"\n",
        "\n",
        "weights_callback = GetWeightsCallback(file_path)\n",
        "\n",
        "# history = model.fit(X_train, y_train_cat, validation_data=(X_val,y_val_cat), epochs=200, callbacks=[weights_callback])\n",
        "history = model.fit(X_train, y_train_cat, validation_data=(X_val,y_val_cat), epochs=200)"
      ]
    },
    {
      "cell_type": "code",
      "execution_count": null,
      "metadata": {
        "colab": {
          "background_save": true
        },
        "id": "1yo9-_kdIqPq",
        "outputId": "2b66ffae-d3c2-4612-c3a5-0f599e49f803"
      },
      "outputs": [
        {
          "name": "stdout",
          "output_type": "stream",
          "text": [
            "313/313 [==============================] - 2s 7ms/step - loss: 0.0044 - accuracy: 0.9736\n",
            "\n",
            "Test Loss:\t 0.004393014125525951\n",
            "Test Accuracy:\t 0.9735999703407288\n"
          ]
        }
      ],
      "source": [
        "#evaluate model on the test set\n",
        "test_loss, test_acc = model.evaluate(X_test, y_test_cat)\n",
        "\n",
        "print()\n",
        "print('Test Loss:\\t', test_loss)\n",
        "print('Test Accuracy:\\t', test_acc)"
      ]
    },
    {
      "cell_type": "code",
      "execution_count": null,
      "metadata": {
        "colab": {
          "background_save": true
        },
        "id": "gjQ2iCLTtQIp",
        "outputId": "ec9d0d60-25c2-4d6f-f232-e612ba98b1c2"
      },
      "outputs": [
        {
          "data": {
            "image/png": "[encoded data removed]",
            "text/plain": [
              "<Figure size 800x600 with 1 Axes>"
            ]
          },
          "metadata": {},
          "output_type": "display_data"
        }
      ],
      "source": [
        "#plot learning curves\n",
        "\n",
        "fig, ax = plt.subplots(figsize=(8,6))\n",
        "plt.xlabel('Epoch')\n",
        "plt.title('CNN training metrics')\n",
        "plt.plot(history.history['accuracy'])\n",
        "plt.plot(history.history['val_accuracy'])\n",
        "plt.plot(history.history['loss'])\n",
        "plt.plot(history.history['val_loss'])\n",
        "plt.legend(['Train', 'Validation'], loc='upper left')\n",
        "ax.grid()"
      ]
    },
    {
      "cell_type": "markdown",
      "metadata": {
        "id": "9ZzYSQMV6LUe"
      },
      "source": [
        "##Silhouette Score"
      ]
    },
    {
      "cell_type": "code",
      "execution_count": null,
      "metadata": {
        "colab": {
          "background_save": true
        },
        "id": "K4tmifJt6Rrf"
      },
      "outputs": [],
      "source": [
        "def get_silhouette (X, Y):\n",
        "  sample_silhouette_values = silhouette_samples(X.T, Y)\n",
        "  means = []\n",
        "  for label in range(10):\n",
        "    means.append(sample_silhouette_values[Y == label].mean())\n",
        "  return means"
      ]
    },
    {
      "cell_type": "code",
      "source": [
        "  #file_path_iter = \"/content/dati/pesi\"+str(200)\n",
        "  #model.load_weights(file_path_iter, skip_mismatch=False, by_name=False, options=None)\n",
        "  # perform forward pass and get output\n",
        "  output = model.predict(X_test)\n",
        "  #evaluate silhouette score\n",
        "  silhouette = get_silhouette(output.T,Y_test)\n"
      ],
      "metadata": {
        "colab": {
          "base_uri": "https://localhost:8080/"
        },
        "id": "9YWyo4FswRR4",
        "outputId": "3b6edcbc-35a1-45de-f2d9-664f4d52385d"
      },
      "execution_count": null,
      "outputs": [
        {
          "output_type": "stream",
          "name": "stdout",
          "text": [
            "313/313 [==============================] - 2s 7ms/step\n"
          ]
        }
      ]
    },
    {
      "cell_type": "code",
      "source": [
        "print(silhouette)"
      ],
      "metadata": {
        "colab": {
          "base_uri": "https://localhost:8080/"
        },
        "id": "46A12SfvwgCA",
        "outputId": "68e234c5-b8af-4d34-ea5a-7d0f11109b0b"
      },
      "execution_count": null,
      "outputs": [
        {
          "output_type": "stream",
          "name": "stdout",
          "text": [
            "[0.9334562, 0.9209666, 0.8463842, 0.87290025, 0.8846542, 0.86593354, 0.8681173, 0.8437506, 0.8403045, 0.8130455]\n"
          ]
        }
      ]
    },
    {
      "cell_type": "code",
      "execution_count": null,
      "metadata": {
        "colab": {
          "background_save": true
        },
        "id": "sBJ40noOW5_O",
        "outputId": "2cc6c204-8578-4fcf-961f-93f46123a5ed"
      },
      "outputs": [
        {
          "ename": "NotFoundError",
          "evalue": "ignored",
          "output_type": "error",
          "traceback": [
            "\u001b[0;31m---------------------------------------------------------------------------\u001b[0m",
            "\u001b[0;31mNotFoundError\u001b[0m                             Traceback (most recent call last)",
            "\u001b[0;32m<ipython-input-13-bcaad3c41571>\u001b[0m in \u001b[0;36m<cell line: 2>\u001b[0;34m()\u001b[0m\n\u001b[1;32m      3\u001b[0m   \u001b[0;31m#carica i pesi\u001b[0m\u001b[0;34m\u001b[0m\u001b[0;34m\u001b[0m\u001b[0m\n\u001b[1;32m      4\u001b[0m   \u001b[0mfile_path_iter\u001b[0m \u001b[0;34m=\u001b[0m \u001b[0;34m\"/content/dati/pesi\"\u001b[0m\u001b[0;34m+\u001b[0m\u001b[0mstr\u001b[0m\u001b[0;34m(\u001b[0m\u001b[0;36m2\u001b[0m\u001b[0;34m*\u001b[0m\u001b[0mi\u001b[0m\u001b[0;34m)\u001b[0m\u001b[0;34m\u001b[0m\u001b[0;34m\u001b[0m\u001b[0m\n\u001b[0;32m----> 5\u001b[0;31m   \u001b[0mmodel\u001b[0m\u001b[0;34m.\u001b[0m\u001b[0mload_weights\u001b[0m\u001b[0;34m(\u001b[0m\u001b[0mfile_path_iter\u001b[0m\u001b[0;34m,\u001b[0m \u001b[0mskip_mismatch\u001b[0m\u001b[0;34m=\u001b[0m\u001b[0;32mFalse\u001b[0m\u001b[0;34m,\u001b[0m \u001b[0mby_name\u001b[0m\u001b[0;34m=\u001b[0m\u001b[0;32mFalse\u001b[0m\u001b[0;34m,\u001b[0m \u001b[0moptions\u001b[0m\u001b[0;34m=\u001b[0m\u001b[0;32mNone\u001b[0m\u001b[0;34m)\u001b[0m\u001b[0;34m\u001b[0m\u001b[0;34m\u001b[0m\u001b[0m\n\u001b[0m\u001b[1;32m      6\u001b[0m   \u001b[0;31m# perform forward pass and get output\u001b[0m\u001b[0;34m\u001b[0m\u001b[0;34m\u001b[0m\u001b[0m\n\u001b[1;32m      7\u001b[0m   \u001b[0moutput\u001b[0m \u001b[0;34m=\u001b[0m \u001b[0mmodel\u001b[0m\u001b[0;34m.\u001b[0m\u001b[0mpredict\u001b[0m\u001b[0;34m(\u001b[0m\u001b[0mX_test\u001b[0m\u001b[0;34m)\u001b[0m\u001b[0;34m\u001b[0m\u001b[0;34m\u001b[0m\u001b[0m\n",
            "\u001b[0;32m/usr/local/lib/python3.10/dist-packages/keras/utils/traceback_utils.py\u001b[0m in \u001b[0;36merror_handler\u001b[0;34m(*args, **kwargs)\u001b[0m\n\u001b[1;32m     68\u001b[0m             \u001b[0;31m# To get the full stack trace, call:\u001b[0m\u001b[0;34m\u001b[0m\u001b[0;34m\u001b[0m\u001b[0m\n\u001b[1;32m     69\u001b[0m             \u001b[0;31m# `tf.debugging.disable_traceback_filtering()`\u001b[0m\u001b[0;34m\u001b[0m\u001b[0;34m\u001b[0m\u001b[0m\n\u001b[0;32m---> 70\u001b[0;31m             \u001b[0;32mraise\u001b[0m \u001b[0me\u001b[0m\u001b[0;34m.\u001b[0m\u001b[0mwith_traceback\u001b[0m\u001b[0;34m(\u001b[0m\u001b[0mfiltered_tb\u001b[0m\u001b[0;34m)\u001b[0m \u001b[0;32mfrom\u001b[0m \u001b[0;32mNone\u001b[0m\u001b[0;34m\u001b[0m\u001b[0;34m\u001b[0m\u001b[0m\n\u001b[0m\u001b[1;32m     71\u001b[0m         \u001b[0;32mfinally\u001b[0m\u001b[0;34m:\u001b[0m\u001b[0;34m\u001b[0m\u001b[0;34m\u001b[0m\u001b[0m\n\u001b[1;32m     72\u001b[0m             \u001b[0;32mdel\u001b[0m \u001b[0mfiltered_tb\u001b[0m\u001b[0;34m\u001b[0m\u001b[0;34m\u001b[0m\u001b[0m\n",
            "\u001b[0;32m/usr/local/lib/python3.10/dist-packages/tensorflow/python/training/py_checkpoint_reader.py\u001b[0m in \u001b[0;36merror_translator\u001b[0;34m(e)\u001b[0m\n\u001b[1;32m     29\u001b[0m       \u001b[0;34m'Failed to find any '\u001b[0m\u001b[0;34m\u001b[0m\u001b[0;34m\u001b[0m\u001b[0m\n\u001b[1;32m     30\u001b[0m       'matching files for') in error_message:\n\u001b[0;32m---> 31\u001b[0;31m     \u001b[0;32mraise\u001b[0m \u001b[0merrors_impl\u001b[0m\u001b[0;34m.\u001b[0m\u001b[0mNotFoundError\u001b[0m\u001b[0;34m(\u001b[0m\u001b[0;32mNone\u001b[0m\u001b[0;34m,\u001b[0m \u001b[0;32mNone\u001b[0m\u001b[0;34m,\u001b[0m \u001b[0merror_message\u001b[0m\u001b[0;34m)\u001b[0m\u001b[0;34m\u001b[0m\u001b[0;34m\u001b[0m\u001b[0m\n\u001b[0m\u001b[1;32m     32\u001b[0m   elif 'Sliced checkpoints are not supported' in error_message or (\n\u001b[1;32m     33\u001b[0m       \u001b[0;34m'Data type '\u001b[0m\u001b[0;34m\u001b[0m\u001b[0;34m\u001b[0m\u001b[0m\n",
            "\u001b[0;31mNotFoundError\u001b[0m: Unsuccessful TensorSliceReader constructor: Failed to find any matching files for /content/dati/pesi2"
          ]
        }
      ],
      "source": [
        "  silhouette_vector = np.empty([10,25])\n",
        "#for i in range(1,26):\n",
        "  #carica i pesi\n",
        "  file_path_iter = \"/content/dati/pesi\"+str()\n",
        "  model.load_weights(file_path_iter, skip_mismatch=False, by_name=False, options=None)\n",
        "  # perform forward pass and get output\n",
        "  output = model.predict(X_test)\n",
        "  #evaluate silhouette score\n",
        "  silhouette = get_silhouette(output.T,Y_test)\n",
        "  silhouette_vector[:,i-1] = np.array(silhouette)"
      ]
    },
    {
      "cell_type": "code",
      "execution_count": null,
      "metadata": {
        "colab": {
          "background_save": true
        },
        "id": "DJGYWQ1C6_3m"
      },
      "outputs": [],
      "source": [
        "\n",
        "#Grafico il silhouette score per ogni classe\n",
        "plt.title(\"Silhouette score after second layer A2\")\n",
        "plt.xlabel('epoch/2')\n",
        "labels = [\"0\", \"1\", \"2\", \"3\", \"4\", \"5\", \"6\", \"7\", \"8\", \"9\"]\n",
        "for i in range(9):\n",
        "  plt.plot(silhouette_vector[i,:], label=labels[i])\n",
        "plt.legend()\n",
        "plt.show()\n"
      ]
    },
    {
      "cell_type": "markdown",
      "metadata": {
        "id": "AWsnJ93bh29L"
      },
      "source": [
        "##PCA"
      ]
    },
    {
      "cell_type": "code",
      "execution_count": null,
      "metadata": {
        "colab": {
          "base_uri": "https://localhost:8080/"
        },
        "id": "92efBxC4uNlh",
        "outputId": "6010c6ef-475d-4684-bf9f-0be996badcba"
      },
      "outputs": [
        {
          "output_type": "stream",
          "name": "stdout",
          "text": [
            "1688/1688 [==============================] - 17s 10ms/step\n"
          ]
        }
      ],
      "source": [
        "#carica i pesi\n",
        "#file_path_iter = \"/content/dati/pesi\"+str(2)\n",
        "#model.load_weights(file_path_iter, skip_mismatch=False, by_name=False, options=None)\n",
        "\n",
        "# perform forward pass and get output\n",
        "output = model.predict(X_train)\n",
        "\n"
      ]
    },
    {
      "cell_type": "code",
      "execution_count": null,
      "metadata": {
        "id": "jLGVsWvs5ons",
        "colab": {
          "base_uri": "https://localhost:8080/",
          "height": 434
        },
        "outputId": "8daf32e3-cf16-41b3-c9b3-aba61e230cd5"
      },
      "outputs": [
        {
          "output_type": "display_data",
          "data": {
            "text/plain": [
              "<Figure size 640x480 with 1 Axes>"
            ],
            "image/png": "[encoded data removed]"
          },
          "metadata": {}
        }
      ],
      "source": [
        "# Apply PCA to reduce dimensionality to 3D\n",
        "pca = PCA(n_components=3)\n",
        "principal_components = pca.fit_transform(output, Y_train)\n",
        "# Create a list of colors for each cluster label\n",
        "colors = ['red', 'blue', 'green', 'orange', 'purple', 'yellow', 'cyan', 'magenta', 'lime', 'pink']\n",
        "lables = ['0','1','2','3','4','5','6','7','8','9']\n",
        "\n",
        "# Plot the transformed data in 3D with different colors for each cluster\n",
        "fig = plt.figure()\n",
        "ax = fig.add_subplot(111, projection='3d')\n",
        "\n",
        "for i in range(1000):\n",
        "    scatter = ax.scatter(principal_components[i, 0], principal_components[i, 1], principal_components[i, 2], color=colors[Y_train[i]])\n",
        "\n",
        "r_patch = mpatches.Patch(color='red',     label='0')\n",
        "b_patch = mpatches.Patch(color='blue',    label='1')\n",
        "g_patch = mpatches.Patch(color='green',   label='2')\n",
        "o_patch = mpatches.Patch(color='orange',  label='3')\n",
        "p_patch = mpatches.Patch(color='purple',  label='4')\n",
        "y_patch = mpatches.Patch(color='yellow',  label='5')\n",
        "c_patch = mpatches.Patch(color='cyan',    label='6')\n",
        "m_patch = mpatches.Patch(color='magenta', label='7')\n",
        "l_patch = mpatches.Patch(color='lime',    label='8')\n",
        "p_patch = mpatches.Patch(color='pink',    label='9')\n",
        "\n",
        "\n",
        "ax.set_xlabel('Principal Component 1')\n",
        "ax.set_ylabel('Principal Component 2')\n",
        "ax.set_zlabel('Principal Component 3')\n",
        "ax.set_title('TRAINED CNN PROCESSED DATA PCA VISUALIZATION')\n",
        "\n",
        "plt.legend(handles=[r_patch,b_patch,g_patch,o_patch,p_patch,y_patch,c_patch,m_patch,l_patch,p_patch])\n",
        "\n",
        "plt.show()"
      ]
    }
  ],
  "metadata": {
    "colab": {
      "provenance": [],
      "authorship_tag": "ABX9TyPGqO5/XKXqnQtQKMD0L5um",
      "include_colab_link": true
    },
    "kernelspec": {
      "display_name": "Python 3",
      "name": "python3"
    },
    "language_info": {
      "name": "python"
    }
  },
  "nbformat": 4,
  "nbformat_minor": 0
}